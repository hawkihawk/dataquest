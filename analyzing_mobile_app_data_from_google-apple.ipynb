{
 "cells": [
  {
   "cell_type": "markdown",
   "metadata": {},
   "source": [
    "# Analyzing Mobile App Data from Google & Apple"
   ]
  },
  {
   "cell_type": "markdown",
   "metadata": {},
   "source": [
    "author >> <mark>hawkihawk</mark>"
   ]
  },
  {
   "cell_type": "markdown",
   "metadata": {},
   "source": [
    "This project contains a series analyzis of free app profiles listed in both the Apple App Store and Google Play Store to get to know the process of data collection, hygiene, visualization, etc. Our goal is to help developers understand what type of apps are likely to attract more users. To do this, <mark>we analyzed existing data (at no cost) from +10,000 mobile apps</mark> using the following datasets:\n",
    "\n",
    "1. A dataset containing [data about approximately 10,000 Android apps from Google Play](https://www.kaggle.com/datasets/lava18/google-play-store-apps); the data was collected in August 2018.\n",
    "2. A dataset containing [data about approximately 7,000 iOS apps from the App Store](https://www.kaggle.com/datasets/ramamet4/app-store-apple-data-set-10k-apps); the data was collected in July 2017."
   ]
  },
  {
   "cell_type": "markdown",
   "metadata": {},
   "source": [
    "#### Column descriptions\n",
    "There are 16 columns in the iOS dataset, here are their description"
   ]
  },
  {
   "cell_type": "markdown",
   "metadata": {},
   "source": [
    "| column_nr      | column_name | description\n",
    "| ----------- | ----------- | ----------- |\n",
    "| 0 | \"id\" | App ID |\n",
    "| 1 | \"track_name\" | App Name |\n",
    "| 2 | \"size_bytes\" | Size (in Bytes) |\n",
    "| 3 | \"currency\" | Currency Type |\n",
    "| 4 | \"price\" | Price amount |\n",
    "| 5 | \"ratingcounttot\" | User Rating counts (for all version) |\n",
    "| 6| \"ratingcountver\" | User Rating counts (for current version) |\n",
    "| 7 | \"user_rating\" | Average User Rating value (for all version) |\n",
    "| 8 | \"userratingver\" | Average User Rating value (for current version) |\n",
    "| 9 | \"ver\" | Latest version code |\n",
    "| 10 | \"cont_rating\" | Content Rating |\n",
    "| 11 | \"prime_genre\" | Primary Genre |\n",
    "| 12 | \"sup_devices.num\" | Number of supporting devices |\n",
    "| 13 | \"ipadSc_urls.num\" | Number of screenshots showed for display |\n",
    "| 14 | \"lang.num\" | Number of supported languages |\n",
    "| 15 | \"vpp_lic\" | Vpp Device Based Licensing Enabled |"
   ]
  },
  {
   "cell_type": "markdown",
   "metadata": {},
   "source": [
    "There are 13 columns in the Android dataset, here are their description"
   ]
  },
  {
   "cell_type": "markdown",
   "metadata": {},
   "source": [
    "| column_nr      | column_name | description\n",
    "| ----------- | ----------- | ----------- |\n",
    "| 0 | \"App\" | App Name |\n",
    "| 1 | \"Category\" | App Category |\n",
    "| 2 | \"Rating\" |  Average User Rating value |\n",
    "| 3 | \"Reviews\" | User Rating counts |\n",
    "| 4 | \"Size\" | Size in MB |\n",
    "| 5 | \"Installs\" | Total Number Of Installs |\n",
    "| 6| \"Type\" |  |\n",
    "| 7 | \"Price\" | Price of App |\n",
    "| 8 | \"Content Rating\" | Content Rating |\n",
    "| 9 | \"Genres | App Genre |\n",
    "| 10 | \"Last Updated\" | Date of last update |\n",
    "| 11 | \"Current Ver\" | Current app version |\n",
    "| 12 | \"Android Ver\" | Support Android Versions |"
   ]
  },
  {
   "cell_type": "markdown",
   "metadata": {},
   "source": [
    "# Data exploration"
   ]
  },
  {
   "cell_type": "markdown",
   "metadata": {},
   "source": [
    "## Opening both datasets"
   ]
  },
  {
   "cell_type": "markdown",
   "metadata": {},
   "source": [
    "Let's explore the data"
   ]
  },
  {
   "cell_type": "code",
   "execution_count": 1,
   "metadata": {},
   "outputs": [],
   "source": [
    "from csv import reader\n",
    "\n",
    "### The Google Play dataset ###\n",
    "opened_file = open('googleplaystore.csv')\n",
    "read_file = reader(opened_file)\n",
    "android = list(read_file)\n",
    "android_header = android[0] #first row is the header row\n",
    "android_body = android[1:] #the body of the dataset\n",
    "\n",
    "### The App Store dataset ###\n",
    "opened_file = open('AppleStore.csv')\n",
    "read_file = reader(opened_file)\n",
    "ios = list(read_file)\n",
    "ios_header = ios[0] #first row is the header row\n",
    "ios_body = ios[1:] #the body of the dataset"
   ]
  },
  {
   "cell_type": "markdown",
   "metadata": {},
   "source": [
    "To make both datasets easier to explore we created a function named explore_data() which you can use to print rows in a readable way."
   ]
  },
  {
   "cell_type": "code",
   "execution_count": 2,
   "metadata": {},
   "outputs": [
    {
     "name": "stdout",
     "output_type": "stream",
     "text": [
      "['App', 'Category', 'Rating', 'Reviews', 'Size', 'Installs', 'Type', 'Price', 'Content Rating', 'Genres', 'Last Updated', 'Current Ver', 'Android Ver']\n",
      "\n",
      "\n",
      "['Coloring book moana', 'ART_AND_DESIGN', '3.9', '967', '14M', '500,000+', 'Free', '0', 'Everyone', 'Art & Design;Pretend Play', 'January 15, 2018', '2.0.0', '4.0.3 and up']\n"
     ]
    }
   ],
   "source": [
    "print(android_header)\n",
    "print('\\n')\n",
    "print(android_body[1])"
   ]
  },
  {
   "cell_type": "markdown",
   "metadata": {},
   "source": [
    "### Android data:"
   ]
  },
  {
   "cell_type": "code",
   "execution_count": 33,
   "metadata": {
    "scrolled": true
   },
   "outputs": [
    {
     "name": "stdout",
     "output_type": "stream",
     "text": [
      "['App', 'Category', 'Rating', 'Reviews', 'Size', 'Installs', 'Type', 'Price', 'Content Rating', 'Genres', 'Last Updated', 'Current Ver', 'Android Ver']\n",
      "\n",
      "\n",
      "['Photo Editor & Candy Camera & Grid & ScrapBook', 'ART_AND_DESIGN', '4.1', '159', '19M', '10,000+', 'Free', '0', 'Everyone', 'Art & Design', 'January 7, 2018', '1.0.0', '4.0.3 and up']\n",
      "\n",
      "\n",
      "['Coloring book moana', 'ART_AND_DESIGN', '3.9', '967', '14M', '500,000+', 'Free', '0', 'Everyone', 'Art & Design;Pretend Play', 'January 15, 2018', '2.0.0', '4.0.3 and up']\n",
      "\n",
      "\n",
      "['U Launcher Lite – FREE Live Cool Themes, Hide Apps', 'ART_AND_DESIGN', '4.7', '87510', '8.7M', '5,000,000+', 'Free', '0', 'Everyone', 'Art & Design', 'August 1, 2018', '1.2.4', '4.0.3 and up']\n",
      "\n",
      "\n",
      "Number of rows: 10840\n",
      "Number of columns: 13\n"
     ]
    }
   ],
   "source": [
    "def explore_data(dataset, start, end, rows_and_columns=False):\n",
    "    dataset_slice = dataset[start:end]    \n",
    "    for row in dataset_slice:\n",
    "        print(row)\n",
    "        print('\\n') # adds a new (empty) line after each row\n",
    "\n",
    "    if rows_and_columns:\n",
    "        print('Number of rows:', len(dataset))\n",
    "        print('Number of columns:', len(dataset[0]))\n",
    "        \n",
    "print(android_header)\n",
    "print('\\n')\n",
    "explore_data(android_body, 0, 3, True)"
   ]
  },
  {
   "cell_type": "markdown",
   "metadata": {},
   "source": [
    "We see that the Google Play data set has 10841 apps and 13 columns. At a quick glance, the columns that might be useful for the purpose of our analysis are *'App', 'Category', 'Reviews', 'Installs', 'Type', 'Price', and 'Genres'.*"
   ]
  },
  {
   "cell_type": "markdown",
   "metadata": {},
   "source": [
    "### iOS data:"
   ]
  },
  {
   "cell_type": "code",
   "execution_count": 4,
   "metadata": {
    "scrolled": false
   },
   "outputs": [
    {
     "name": "stdout",
     "output_type": "stream",
     "text": [
      "['id', 'track_name', 'size_bytes', 'currency', 'price', 'rating_count_tot', 'rating_count_ver', 'user_rating', 'user_rating_ver', 'ver', 'cont_rating', 'prime_genre', 'sup_devices.num', 'ipadSc_urls.num', 'lang.num', 'vpp_lic']\n",
      "\n",
      "\n",
      "['284882215', 'Facebook', '389879808', 'USD', '0.0', '2974676', '212', '3.5', '3.5', '95.0', '4+', 'Social Networking', '37', '1', '29', '1']\n",
      "\n",
      "\n",
      "['389801252', 'Instagram', '113954816', 'USD', '0.0', '2161558', '1289', '4.5', '4.0', '10.23', '12+', 'Photo & Video', '37', '0', '29', '1']\n",
      "\n",
      "\n",
      "['529479190', 'Clash of Clans', '116476928', 'USD', '0.0', '2130805', '579', '4.5', '4.5', '9.24.12', '9+', 'Games', '38', '5', '18', '1']\n",
      "\n",
      "\n",
      "Number of rows: 7197\n",
      "Number of columns: 16\n"
     ]
    }
   ],
   "source": [
    "def explore_data(dataset, start, end, rows_and_columns=False):\n",
    "    dataset_slice = dataset[start:end]    \n",
    "    for row in dataset_slice:\n",
    "        print(row)\n",
    "        print('\\n') # adds a new (empty) line after each row\n",
    "\n",
    "    if rows_and_columns:\n",
    "        print('Number of rows:', len(dataset))\n",
    "        print('Number of columns:', len(dataset[0]))\n",
    "        \n",
    "print(ios_header)\n",
    "print('\\n')\n",
    "explore_data(ios_body, 0, 3, True)"
   ]
  },
  {
   "cell_type": "markdown",
   "metadata": {},
   "source": [
    "The iOS data set has 7197 apps and 16 columns, the columns that might be useful for the purpose of our analysis are *'track_name', 'currency', 'price', 'rating_count_tot', 'rating_count_ver', and 'prime_genre'*"
   ]
  },
  {
   "cell_type": "markdown",
   "metadata": {},
   "source": [
    "# Data Cleaning"
   ]
  },
  {
   "cell_type": "markdown",
   "metadata": {},
   "source": [
    "## Deleting wrong data"
   ]
  },
  {
   "cell_type": "markdown",
   "metadata": {},
   "source": [
    "Before beginning our analyzis we need to make sure the data we analyze is accurate or the results of our analysis **will be wrong.** This means that we need to do the following:\n",
    "\n",
    "1. Detect inaccurate data, and correct or remove it.\n",
    "2. Detect duplicate data, and remove the duplicates.\n",
    "\n",
    "or in other words, seek and destroy."
   ]
  },
  {
   "cell_type": "markdown",
   "metadata": {},
   "source": [
    "The Google Play data set has a [dedicated discussion section](https://www.kaggle.com/lava18/google-play-store-apps/discussion), and we can see that [one of the discussions](https://www.kaggle.com/lava18/google-play-store-apps/discussion/66015) outlines an error for row 10472."
   ]
  },
  {
   "cell_type": "code",
   "execution_count": 5,
   "metadata": {
    "scrolled": true
   },
   "outputs": [
    {
     "name": "stdout",
     "output_type": "stream",
     "text": [
      "['Life Made WI-Fi Touchscreen Photo Frame', '1.9', '19', '3.0M', '1,000+', 'Free', '0', 'Everyone', '', 'February 11, 2018', '1.0.19', '4.0 and up']\n",
      "\n",
      "\n",
      "['App', 'Category', 'Rating', 'Reviews', 'Size', 'Installs', 'Type', 'Price', 'Content Rating', 'Genres', 'Last Updated', 'Current Ver', 'Android Ver']\n",
      "\n",
      "\n",
      "{'App': 'Life Made WI-Fi Touchscreen Photo Frame', 'Category': '1.9', 'Rating': '19', 'Reviews': '3.0M', 'Size': '1,000+', 'Installs': 'Free', 'Type': '0', 'Price': 'Everyone', 'Content Rating': '', 'Genres': 'February 11, 2018', 'Last Updated': '1.0.19', 'Current Ver': '4.0 and up'}\n",
      "\n",
      "\n",
      "App                 Life Made WI-Fi Touchscreen Photo Frame\n",
      "Category            1.9\n",
      "Rating              19\n",
      "Reviews             3.0M\n",
      "Size                1,000+\n",
      "Installs            Free\n",
      "Type                0\n",
      "Price               Everyone\n",
      "Content Rating      \n",
      "Genres              February 11, 2018\n",
      "Last Updated        1.0.19\n",
      "Current Ver         4.0 and up\n"
     ]
    }
   ],
   "source": [
    "print(android_body[10472])\n",
    "print('\\n')\n",
    "print(android_header)\n",
    "print('\\n')\n",
    "\n",
    "android_dictionary = dict(zip(android_header, android_body[10472]))\n",
    "print(android_dictionary)\n",
    "print('\\n')\n",
    "    \n",
    "for key, value in android_dictionary.items():\n",
    "    print(f'{key: <20}{value}')"
   ]
  },
  {
   "cell_type": "markdown",
   "metadata": {},
   "source": [
    "Row 10472 includes the app \"Life Made WI-Fi Touchscreen Photo Frame\", and we can see that the rating is 19 which is impossible since the max rating for a Google Play app is 5. This problem is caused by a missing value in the 'Category' column.\n",
    "\n",
    "**To tackle this we proceed to remove the row from the dataset**"
   ]
  },
  {
   "cell_type": "code",
   "execution_count": 6,
   "metadata": {
    "scrolled": true
   },
   "outputs": [
    {
     "name": "stdout",
     "output_type": "stream",
     "text": [
      "['osmino Wi-Fi: free WiFi', 'TOOLS', '4.2', '134203', '4.1M', '10,000,000+', 'Free', '0', 'Everyone', 'Tools', 'August 7, 2018', '6.06.14', '4.4 and up']\n",
      "\n",
      "\n",
      "App                 osmino Wi-Fi: free WiFi\n",
      "Category            TOOLS\n",
      "Rating              4.2\n",
      "Reviews             134203\n",
      "Size                4.1M\n",
      "Installs            10,000,000+\n",
      "Type                Free\n",
      "Price               0\n",
      "Content Rating      Everyone\n",
      "Genres              Tools\n",
      "Last Updated        August 7, 2018\n",
      "Current Ver         6.06.14\n",
      "Android Ver         4.4 and up\n"
     ]
    }
   ],
   "source": [
    "del(android_body[10472])\n",
    "\n",
    "print(android_body[10472])\n",
    "\n",
    "print('\\n')\n",
    "android_dictionary = dict(zip(android_header, android_body[10472]))\n",
    "for key, value in android_dictionary.items():\n",
    "    print(f'{key: <20}{value}')"
   ]
  },
  {
   "cell_type": "markdown",
   "metadata": {},
   "source": [
    "## Removing Duplicate Entries"
   ]
  },
  {
   "cell_type": "markdown",
   "metadata": {},
   "source": [
    "### Part I"
   ]
  },
  {
   "cell_type": "markdown",
   "metadata": {},
   "source": [
    "In total, there are 1,181 cases where an Android app occurs more than once, **there are however 0 cases where and iOS app occurs more than once.**"
   ]
  },
  {
   "cell_type": "code",
   "execution_count": 7,
   "metadata": {
    "scrolled": false
   },
   "outputs": [
    {
     "name": "stdout",
     "output_type": "stream",
     "text": [
      "Number of duplicate Android apps: 1181\n",
      "Number of duplicate iOS apps: 0\n",
      "\n",
      "\n",
      "Examples of duplicate Android apps: ['Quick PDF Scanner + OCR FREE', 'Box', 'Google My Business', 'ZOOM Cloud Meetings', 'join.me - Simple Meetings', 'Box', 'Zenefits', 'Google Ads', 'Google My Business', 'Slack', 'FreshBooks Classic', 'Insightly CRM', 'QuickBooks Accounting: Invoicing & Expenses', 'HipChat - Chat Built for Teams', 'Xero Accounting Software']\n",
      "\n",
      "\n",
      "Examples of duplicate iOS apps: []\n"
     ]
    }
   ],
   "source": [
    "duplicate_android_apps = []\n",
    "unique_android_apps = []\n",
    "\n",
    "for app in android_body: \n",
    "    name = app[0]\n",
    "    \n",
    "    if name in unique_android_apps:\n",
    "        duplicate_android_apps.append(name)\n",
    "    else:\n",
    "        unique_android_apps.append(name)\n",
    "        \n",
    "duplicate_ios_apps = []\n",
    "unique_ios_apps = []\n",
    "\n",
    "for app in ios_body: \n",
    "    name = app[0]\n",
    "    \n",
    "    if name in unique_ios_apps:\n",
    "        duplicate_ios_apps.append(name)\n",
    "    else:\n",
    "        unique_ios_apps.append(name)\n",
    "\n",
    "print('Number of duplicate Android apps:', len(duplicate_android_apps))\n",
    "print('Number of duplicate iOS apps:', len(duplicate_ios_apps))\n",
    "print('\\n')\n",
    "print('Examples of duplicate Android apps:', duplicate_android_apps[:15])\n",
    "print('\\n')\n",
    "print('Examples of duplicate iOS apps:', duplicate_ios_apps[:15])"
   ]
  },
  {
   "cell_type": "markdown",
   "metadata": {},
   "source": [
    "When we start examining indivitual apps we can see that for the Instagram app for example, the main difference happens on the 4th position of each row, which corresponds to the number of reviews. **The different numbers show the data was collected at different times.**"
   ]
  },
  {
   "cell_type": "code",
   "execution_count": 8,
   "metadata": {
    "scrolled": false
   },
   "outputs": [
    {
     "name": "stdout",
     "output_type": "stream",
     "text": [
      "['Instagram', 'SOCIAL', '4.5', '66577313', 'Varies with device', '1,000,000,000+', 'Free', '0', 'Teen', 'Social', 'July 31, 2018', 'Varies with device', 'Varies with device'] \n",
      "\n",
      "['Instagram', 'SOCIAL', '4.5', '66577446', 'Varies with device', '1,000,000,000+', 'Free', '0', 'Teen', 'Social', 'July 31, 2018', 'Varies with device', 'Varies with device'] \n",
      "\n",
      "['Instagram', 'SOCIAL', '4.5', '66577313', 'Varies with device', '1,000,000,000+', 'Free', '0', 'Teen', 'Social', 'July 31, 2018', 'Varies with device', 'Varies with device'] \n",
      "\n",
      "['Instagram', 'SOCIAL', '4.5', '66509917', 'Varies with device', '1,000,000,000+', 'Free', '0', 'Teen', 'Social', 'July 31, 2018', 'Varies with device', 'Varies with device'] \n",
      "\n"
     ]
    }
   ],
   "source": [
    "for app in android_body:\n",
    "    name = app[0]\n",
    "    \n",
    "    if name == 'Instagram':\n",
    "        print(app, '\\n')"
   ]
  },
  {
   "cell_type": "markdown",
   "metadata": {},
   "source": [
    "We can use this information to build a criterion for removing the duplicates. One of the possible explanations for the difference in column 4 is that the higher the number of reviews, the more recent the data should be. Rather than removing duplicates randomly, **we'll only keep the row with the highest number of reviews and remove the other entries for any given app.**"
   ]
  },
  {
   "cell_type": "markdown",
   "metadata": {},
   "source": [
    "### Part 2"
   ]
  },
  {
   "cell_type": "code",
   "execution_count": 9,
   "metadata": {},
   "outputs": [
    {
     "name": "stdout",
     "output_type": "stream",
     "text": [
      "The expected length of Android list is 10,840 excluding the header\n"
     ]
    }
   ],
   "source": [
    "print('The expected length of Android list is', f'{len(android_body):,}', 'excluding the header')\n",
    "\n",
    "#I researched how to format numbers in Python, hence f'{:,}'"
   ]
  },
  {
   "cell_type": "markdown",
   "metadata": {},
   "source": [
    "In order to remove the duplicate entries we will do the following:\n",
    "\n",
    "1. Create a dictionary\n",
    "    1. Each dictionary key is a unique app name \n",
    "    2. Each corresponding dictionary value is the highest number of reviews of that app\n",
    "2. Create a new dataset with the dictionary\n",
    "    1. Only have one entry per app\n",
    "    2. Ensure that entries with the highest number of reviews is selected\n",
    "\n",
    "To turn the steps above into code, we'll need to use the \"NOT IN\" operator. The \"NOT IN\" operator is the opposite of the \"IN\" operator. For instance, **'z' in ['a', 'b', 'c'] returns False** because 'z' is not in ['a', 'b', 'c'], but **'z' not in ['a', 'b', 'c'] returns True** because it's true that 'z' is not in the list ['a', 'b', 'c'], like so:"
   ]
  },
  {
   "cell_type": "code",
   "execution_count": 10,
   "metadata": {},
   "outputs": [
    {
     "name": "stdout",
     "output_type": "stream",
     "text": [
      "False\n",
      "True\n"
     ]
    }
   ],
   "source": [
    "print('z' in ['a', 'b','c'])\n",
    "print('z' not in ['a', 'b','c'])"
   ]
  },
  {
   "cell_type": "markdown",
   "metadata": {},
   "source": [
    "Below we created an empty dictionary named reviews_max and looped through the Google Play dataset (excl. the header row)."
   ]
  },
  {
   "cell_type": "code",
   "execution_count": 11,
   "metadata": {},
   "outputs": [],
   "source": [
    "reviews_max = {}\n",
    "    \n",
    "for app in android_body:\n",
    "    name = app[0] #Assign the app name to a variable named name.\n",
    "    n_reviews = float(app[3]) #Convert the number of reviews to float. Assign it to a variable named n_reviews.\n",
    "    \n",
    "    if (name in reviews_max) and (reviews_max[name] < n_reviews):\n",
    "        reviews_max[name] = n_reviews\n",
    "    elif name not in reviews_max:\n",
    "        reviews_max[name] = n_reviews"
   ]
  },
  {
   "cell_type": "markdown",
   "metadata": {},
   "source": [
    "In a previous code cell, we found that there are 1,181 cases where an app occurs more than once, so the length of our dictionary (of unique apps) should be equal to the difference between the length of our dataset and 1,181."
   ]
  },
  {
   "cell_type": "code",
   "execution_count": 12,
   "metadata": {},
   "outputs": [
    {
     "name": "stdout",
     "output_type": "stream",
     "text": [
      "Expected length: 9,659\n",
      "Actual length: 9,659\n"
     ]
    }
   ],
   "source": [
    "print('Expected length:',f'{(len(android_body)-1181):,}')\n",
    "print('Actual length:',f'{len(reviews_max):,}')"
   ]
  },
  {
   "cell_type": "markdown",
   "metadata": {},
   "source": [
    "Now that we've confirmed the actual length, we'll use the dictionary we created above to remove the duplicate rows: \n",
    "\n",
    "1. First we create two empty lists: \n",
    "\n",
    "    1. <mark>android_clean</mark> which will store our new cleaned dataset\n",
    "    2. <mark>already_added</mark> which will just store app names\n",
    "\n",
    "2. We'll then loop through the <mark>android_body</mark> dataset, and for each iteration we'll:\n",
    "\n",
    "    1. Assign the app name to a variable named *name* & reviews to a variable named *n_reviews*\n",
    "    2. We add the current row (<mark>app</mark>) to the <mark>android_clean list</mark>, and the app name (<mark>name</mark>) to the already_added list if:\n",
    "    \n",
    "        1. The number of reviews of the current app matches the number of reviews of that app as described in the reviews_max dictionary\n",
    "        2. The name of the app is not already in the already_added list. "
   ]
  },
  {
   "cell_type": "code",
   "execution_count": 13,
   "metadata": {},
   "outputs": [],
   "source": [
    "android_clean = []\n",
    "already_added = []\n",
    "\n",
    "for app in android_body:\n",
    "    name = app[0]\n",
    "    n_reviews = float(app[3])\n",
    "    \n",
    "    if (n_reviews == reviews_max[name]) and (name not in already_added):\n",
    "        android_clean.append(app)\n",
    "        already_added.append(name)"
   ]
  },
  {
   "cell_type": "code",
   "execution_count": 14,
   "metadata": {
    "scrolled": false
   },
   "outputs": [
    {
     "name": "stdout",
     "output_type": "stream",
     "text": [
      "['Photo Editor & Candy Camera & Grid & ScrapBook', 'ART_AND_DESIGN', '4.1', '159', '19M', '10,000+', 'Free', '0', 'Everyone', 'Art & Design', 'January 7, 2018', '1.0.0', '4.0.3 and up']\n",
      "\n",
      "\n",
      "['U Launcher Lite – FREE Live Cool Themes, Hide Apps', 'ART_AND_DESIGN', '4.7', '87510', '8.7M', '5,000,000+', 'Free', '0', 'Everyone', 'Art & Design', 'August 1, 2018', '1.2.4', '4.0.3 and up']\n",
      "\n",
      "\n",
      "['Sketch - Draw & Paint', 'ART_AND_DESIGN', '4.5', '215644', '25M', '50,000,000+', 'Free', '0', 'Teen', 'Art & Design', 'June 8, 2018', 'Varies with device', '4.2 and up']\n",
      "\n",
      "\n",
      "Number of rows: 9659\n",
      "Number of columns: 13\n"
     ]
    }
   ],
   "source": [
    "explore_data(android_clean, 0, 3, True)"
   ]
  },
  {
   "cell_type": "markdown",
   "metadata": {},
   "source": [
    "The reason for the supplementary condition is to account for cases where the highest number of reviews of a duplicate app is the same for more than one entry (for example, the Box app has three entries, and the number of reviews is the same). If we\n",
    "\n",
    "- Just check for reviews_max[name] == n_reviews, we'll still end up with duplicate entries for some apps\n",
    "- Added an <mark>else</mark> before <mark>already_added.append(name)</mark> we'd also end up with duplicate entries for some apps"
   ]
  },
  {
   "cell_type": "markdown",
   "metadata": {},
   "source": [
    "## Removing Non-English Apps"
   ]
  },
  {
   "cell_type": "markdown",
   "metadata": {},
   "source": [
    "### Part 1"
   ]
  },
  {
   "cell_type": "markdown",
   "metadata": {},
   "source": [
    "We use English for the apps we develop at our company, and we'd like to analyze only the apps that are designed for an English-speaking audience. However, if we explore the data long enough, we'll find that both datasets have apps with names that suggest they are not designed for an English-speaking audience."
   ]
  },
  {
   "cell_type": "code",
   "execution_count": 15,
   "metadata": {},
   "outputs": [
    {
     "name": "stdout",
     "output_type": "stream",
     "text": [
      "中国語 AQリスニング\n",
      "لعبة تقدر تربح DZ\n",
      "\n",
      "\n",
      "爱奇艺PPS -《欢乐颂2》电视剧热播\n",
      "【脱出ゲーム】絶対に最後までプレイしないで 〜謎解き＆ブロックパズル〜\n"
     ]
    }
   ],
   "source": [
    "#Android dataset\n",
    "print(android_clean[4412][0])\n",
    "print(android_clean[7940][0])\n",
    "\n",
    "print('\\n')\n",
    "\n",
    "#iOS dataset\n",
    "print(ios_body[813][1])\n",
    "print(ios_body[6731][1])"
   ]
  },
  {
   "cell_type": "markdown",
   "metadata": {},
   "source": [
    "We're not interested in keeping these apps, so we'll remove them. Each character we use in a string has a corresponding number associated with it. For instance, the corresponding number for character 'a' is 97, character 'A' is 65, and character '爱' is 29,233. We can get the corresponding number of each character using the ord() built-in function.\n",
    "\n",
    "The numbers corresponding to the characters we commonly use in an English text are all in the range 0 to 127, according to the ASCII (American Standard Code for Information Interchange) system."
   ]
  },
  {
   "cell_type": "code",
   "execution_count": 16,
   "metadata": {
    "scrolled": true
   },
   "outputs": [],
   "source": [
    "def english_check(an_input):\n",
    "    \n",
    "    for character in an_input:\n",
    "        if ord(character) > 127:\n",
    "            return False\n",
    "    \n",
    "    return True"
   ]
  },
  {
   "cell_type": "markdown",
   "metadata": {},
   "source": [
    "Above we wrote a function that takes in a string and returns <mark>False</mark> if there's any character in the string that doesn't belong to the set of common English characters; otherwise, the function returns <mark>True</mark>.\n",
    "\n",
    "- The function iterates over the input string\n",
    "- For each iteration it checks whether the number associated with the character is greater than 127\n",
    "    - When a character is greater than 127, the function immediately returns False as the app name is probably non-English since it contains a character that doesn't belong to the set of common English characters.\n",
    "    - If the loop finishes running without the return statement executing, then it means no character had a corresponding number over 127 the app name is probably English, so the functions should return True."
   ]
  },
  {
   "cell_type": "markdown",
   "metadata": {},
   "source": [
    "**Below we test the new function**"
   ]
  },
  {
   "cell_type": "code",
   "execution_count": 17,
   "metadata": {},
   "outputs": [
    {
     "name": "stdout",
     "output_type": "stream",
     "text": [
      "False\n",
      "False\n",
      "True\n",
      "8482\n",
      "128540\n"
     ]
    }
   ],
   "source": [
    "print(english_check('pew pew pew 🌌 🔫'))\n",
    "print(english_check('Instachat 😜'))\n",
    "print(english_check('Instachat'))\n",
    "\n",
    "print(ord('™'))\n",
    "print(ord('😜'))"
   ]
  },
  {
   "cell_type": "markdown",
   "metadata": {},
   "source": [
    "Excluding all apps where a character is greater than 127 might be too broad, the function couldn't correctly identify certain English app names like 'pew pew pew 🌌 🔫'. This is because emojis and characters like ™ fall outside the ASCII range and have corresponding numbers over 127."
   ]
  },
  {
   "cell_type": "markdown",
   "metadata": {},
   "source": [
    "### Part Two"
   ]
  },
  {
   "cell_type": "markdown",
   "metadata": {},
   "source": [
    "To minimize the impact of data loss we only remove an app if its name has more than three characters with corresponding numbers falling outside the ASCII range. This means all English apps with up to three emoji or other special characters will still be labeled as English."
   ]
  },
  {
   "cell_type": "code",
   "execution_count": 18,
   "metadata": {},
   "outputs": [
    {
     "name": "stdout",
     "output_type": "stream",
     "text": [
      "True\n",
      "True\n",
      "False\n"
     ]
    }
   ],
   "source": [
    "def english_check(an_input):\n",
    "    not_ascii = 0\n",
    "    \n",
    "    for character in an_input:\n",
    "        if ord(character) > 127:\n",
    "            not_ascii += 1\n",
    "\n",
    "    if not_ascii > 3:\n",
    "        return False\n",
    "    else:\n",
    "        return True\n",
    "\n",
    "print(english_check('Could this be?'))\n",
    "print(english_check('pew pew pew 🔫'))\n",
    "print(english_check('pew剧 pew剧 pew剧 🔫'))"
   ]
  },
  {
   "cell_type": "markdown",
   "metadata": {},
   "source": [
    "Our filter function is still not perfect, but it should be fairly effective. In the next code cell we use the new function to filter out non-English apps from both datasets, loop through each dataset and create a seperate list for apps that are identified as English."
   ]
  },
  {
   "cell_type": "code",
   "execution_count": 19,
   "metadata": {
    "scrolled": true
   },
   "outputs": [
    {
     "name": "stdout",
     "output_type": "stream",
     "text": [
      "**Android**\n",
      "['Photo Editor & Candy Camera & Grid & ScrapBook', 'ART_AND_DESIGN', '4.1', '159', '19M', '10,000+', 'Free', '0', 'Everyone', 'Art & Design', 'January 7, 2018', '1.0.0', '4.0.3 and up']\n",
      "\n",
      "\n",
      "['U Launcher Lite – FREE Live Cool Themes, Hide Apps', 'ART_AND_DESIGN', '4.7', '87510', '8.7M', '5,000,000+', 'Free', '0', 'Everyone', 'Art & Design', 'August 1, 2018', '1.2.4', '4.0.3 and up']\n",
      "\n",
      "\n",
      "Number of rows: 9614\n",
      "Number of columns: 13\n",
      "\n",
      "\n",
      "**iOS**\n",
      "['284882215', 'Facebook', '389879808', 'USD', '0.0', '2974676', '212', '3.5', '3.5', '95.0', '4+', 'Social Networking', '37', '1', '29', '1']\n",
      "\n",
      "\n",
      "['389801252', 'Instagram', '113954816', 'USD', '0.0', '2161558', '1289', '4.5', '4.0', '10.23', '12+', 'Photo & Video', '37', '0', '29', '1']\n",
      "\n",
      "\n",
      "Number of rows: 6183\n",
      "Number of columns: 16\n"
     ]
    }
   ],
   "source": [
    "android_english_body = []\n",
    "ios_english_body = []\n",
    "\n",
    "for app in android_clean:\n",
    "    name = app[0]\n",
    "\n",
    "    if english_check(name):\n",
    "        android_english_body.append(app)\n",
    "        \n",
    "        \n",
    "for app in ios_body:\n",
    "    name = app[1]\n",
    "    if english_check(name):\n",
    "        ios_english_body.append(app)\n",
    "\n",
    "android_clean = android_english_body\n",
    "ios_clean = ios_english_body\n",
    "        \n",
    "print('**Android**')\n",
    "explore_data(android_english_body, 0, 2, rows_and_columns=True)\n",
    "print('\\n')\n",
    "print('**iOS**')\n",
    "explore_data(ios_english_body, 0, 2, rows_and_columns=True)"
   ]
  },
  {
   "cell_type": "markdown",
   "metadata": {},
   "source": [
    "**The Android dataset went from 9,659 to 9,614 reducing the number of entries by 45**\n",
    "\n",
    "\n",
    "**The iOS dataset went from 7,197 to 6,183 reducing the number of entries by 1,014**"
   ]
  },
  {
   "cell_type": "markdown",
   "metadata": {},
   "source": [
    "## Isolating the Free Apps"
   ]
  },
  {
   "cell_type": "markdown",
   "metadata": {},
   "source": [
    "So far in the data cleaning process, we've done the following:\n",
    "\n",
    "1. Removed inaccurate data\n",
    "2. Removed duplicate app entries\n",
    "3. Removed non-English apps\n",
    "\n",
    "We're tasked with analyzing apps that are free to download and install and since our datasets contain both free and non-free apps we'll need to isolate only the free apps for our analysis."
   ]
  },
  {
   "cell_type": "code",
   "execution_count": 20,
   "metadata": {
    "scrolled": true
   },
   "outputs": [
    {
     "name": "stdout",
     "output_type": "stream",
     "text": [
      "Entries for free Android apps\n",
      "['Photo Editor & Candy Camera & Grid & ScrapBook', 'ART_AND_DESIGN', '4.1', '159', '19M', '10,000+', 'Free', '0', 'Everyone', 'Art & Design', 'January 7, 2018', '1.0.0', '4.0.3 and up']\n",
      "\n",
      "\n",
      "['U Launcher Lite – FREE Live Cool Themes, Hide Apps', 'ART_AND_DESIGN', '4.7', '87510', '8.7M', '5,000,000+', 'Free', '0', 'Everyone', 'Art & Design', 'August 1, 2018', '1.2.4', '4.0.3 and up']\n",
      "\n",
      "\n",
      "Number of rows: 8864\n",
      "Number of columns: 13\n",
      "\n",
      "\n",
      "Entries for free iOS apps\n",
      "['284882215', 'Facebook', '389879808', 'USD', '0.0', '2974676', '212', '3.5', '3.5', '95.0', '4+', 'Social Networking', '37', '1', '29', '1']\n",
      "\n",
      "\n",
      "['389801252', 'Instagram', '113954816', 'USD', '0.0', '2161558', '1289', '4.5', '4.0', '10.23', '12+', 'Photo & Video', '37', '0', '29', '1']\n",
      "\n",
      "\n",
      "Number of rows: 3222\n",
      "Number of columns: 16\n"
     ]
    }
   ],
   "source": [
    "free_android_apps = []\n",
    "free_ios_apps = []\n",
    "\n",
    "\n",
    "for row in android_clean:\n",
    "    price = row[7]\n",
    "    if price == '0':\n",
    "        free_android_apps.append(row)\n",
    "        \n",
    "for row in ios_clean:\n",
    "    price = row[4]\n",
    "    if price == '0.0':\n",
    "        free_ios_apps.append(row)\n",
    "        \n",
    "print('Entries for free Android apps')\n",
    "explore_data(free_android_apps, 0, 2, rows_and_columns=True)\n",
    "print('\\n')\n",
    "print('Entries for free iOS apps')\n",
    "explore_data(free_ios_apps, 0, 2, rows_and_columns=True)"
   ]
  },
  {
   "cell_type": "markdown",
   "metadata": {},
   "source": [
    "## Most Common Apps by Genre"
   ]
  },
  {
   "cell_type": "markdown",
   "metadata": {},
   "source": [
    "### Part One"
   ]
  },
  {
   "cell_type": "markdown",
   "metadata": {},
   "source": [
    "Our goal is to determine the kinds of apps that are likely to attract more users because the number of people using our apps affect our revenue.\n",
    "\n",
    "To minimize risks and overhead, our validation strategy for an app idea has three steps:\n",
    "\n",
    "1. Build a minimal Android version of the app, and add it to Google Play.\n",
    "2. If the app has a good response from users, we develop it further.\n",
    "3. If the app is profitable after six months, we build an iOS version of the app and add it to the App Store.\n",
    "\n",
    "Because our end goal is to add the app on both Google Play and the App Store, we need to find app profiles that are successful in both markets. For instance, a profile that works well for both markets might be a productivity app that makes use of gamification. One of the main benefits of having an app in both markets is the reach and larger revenue pool we'd otherwise have access to.\n",
    "\n",
    "Below we begin the analysis by determining the most common genres for each market. For this, we'll need to build frequency tables for a few columns in our dataset. The most useful column in the iOS dataset is most likely going to be 'prime_genre', for Android that would be 'Genres' and 'Category'"
   ]
  },
  {
   "cell_type": "code",
   "execution_count": 21,
   "metadata": {},
   "outputs": [
    {
     "name": "stdout",
     "output_type": "stream",
     "text": [
      "['App', 'Category', 'Rating', 'Reviews', 'Size', 'Installs', 'Type', 'Price', 'Content Rating', 'Genres', 'Last Updated', 'Current Ver', 'Android Ver']\n"
     ]
    }
   ],
   "source": [
    "print(android_header)"
   ]
  },
  {
   "cell_type": "code",
   "execution_count": 22,
   "metadata": {
    "scrolled": true
   },
   "outputs": [
    {
     "name": "stdout",
     "output_type": "stream",
     "text": [
      "['id', 'track_name', 'size_bytes', 'currency', 'price', 'rating_count_tot', 'rating_count_ver', 'user_rating', 'user_rating_ver', 'ver', 'cont_rating', 'prime_genre', 'sup_devices.num', 'ipadSc_urls.num', 'lang.num', 'vpp_lic']\n"
     ]
    }
   ],
   "source": [
    "print(ios_header)"
   ]
  },
  {
   "cell_type": "markdown",
   "metadata": {},
   "source": [
    "### Part Two"
   ]
  },
  {
   "cell_type": "markdown",
   "metadata": {},
   "source": [
    "We'll build two functions we can use to analyze the frequency tables:\n",
    "\n",
    "1. One function to generate frequency tables (freq_table) that show percentages\n",
    "2. Another function we can use to display the percentages (display_table) in a descending order"
   ]
  },
  {
   "cell_type": "markdown",
   "metadata": {},
   "source": [
    "The freq_table() function takes in two inputs: \n",
    "- dataset (which will be a list of lists)\n",
    "- index (which will be an integer).\n",
    "\n",
    "The function should return the frequency table as a dictionary for any column we want. The frequencies should also be expressed as percentages."
   ]
  },
  {
   "cell_type": "code",
   "execution_count": 23,
   "metadata": {},
   "outputs": [],
   "source": [
    "def freq_table(dataset, index):\n",
    "    table = {}\n",
    "    total = 0\n",
    "    \n",
    "    for row in dataset:\n",
    "        total += 1\n",
    "        value = row[index]\n",
    "        if value in table:\n",
    "            table[value] += 1\n",
    "        else:\n",
    "            table[value] = 1\n",
    "    \n",
    "    table_percentages = {}\n",
    "    for key in table:\n",
    "        percentage = (table[key] / total) * 100\n",
    "        table_percentages[key] = percentage \n",
    "    \n",
    "    return table_percentages"
   ]
  },
  {
   "cell_type": "markdown",
   "metadata": {},
   "source": [
    "### Part Three"
   ]
  },
  {
   "cell_type": "markdown",
   "metadata": {},
   "source": [
    "The display_table() function you see below does the following:\n",
    "\n",
    "- Takes in two parameters: dataset and index. dataset will be a list of lists, and index will be an integer\n",
    "- Generates a frequency table using the freq_table() function (which you're going to write as an exercise)\n",
    "- Transforms the frequency table into a list of tuples, then sorts the list in a descending order\n",
    "- Prints the entries of the frequency table in descending order"
   ]
  },
  {
   "cell_type": "markdown",
   "metadata": {},
   "source": [
    "Below we take a look at the 'prime_genre' column from the iOS dataset. Apps made for entertainment have by far the largest share of apps in the app store with the top 2 being Games and Entertainment with +60% of total Aapps. That said, while entertainment apps are dominant in terms of number of apps it doesn't say whether the number of users are equal proportionately. "
   ]
  },
  {
   "cell_type": "code",
   "execution_count": 24,
   "metadata": {
    "scrolled": true
   },
   "outputs": [
    {
     "name": "stdout",
     "output_type": "stream",
     "text": [
      "Games : 54.86\n",
      "Entertainment : 7.26\n",
      "Education : 6.63\n",
      "Photo & Video : 5.52\n",
      "Utilities : 3.44\n",
      "Productivity : 2.72\n",
      "Health & Fitness : 2.67\n",
      "Music : 2.22\n",
      "Social Networking : 2.04\n",
      "Sports : 1.68\n",
      "Lifestyle : 1.6\n",
      "Shopping : 1.37\n",
      "Weather : 1.12\n",
      "Travel : 0.97\n",
      "News : 0.92\n",
      "Book : 0.89\n",
      "Reference : 0.86\n",
      "Business : 0.86\n",
      "Finance : 0.79\n",
      "Food & Drink : 0.71\n",
      "Navigation : 0.45\n",
      "Medical : 0.34\n",
      "Catalogs : 0.08\n"
     ]
    }
   ],
   "source": [
    "def display_table(dataset, index):\n",
    "    table = freq_table(dataset, index)\n",
    "    table_display = []\n",
    "    for key in table:\n",
    "        key_val_as_tuple = (table[key], key)\n",
    "        table_display.append(key_val_as_tuple)\n",
    "\n",
    "    table_sorted = sorted(table_display, reverse = True)\n",
    "    for entry in table_sorted:\n",
    "        print(entry[1], ':', round(entry[0],2))\n",
    "\n",
    "display_table(ios_clean,11)"
   ]
  },
  {
   "cell_type": "markdown",
   "metadata": {},
   "source": [
    "Below we take a look at the both the 'category' and 'genre' columns from the Android dataset. At first glance the share of apps is seem more distributed and more practical. The 'category' that has the largest share of apps is ['Family'](https://play.google.com/store/apps/category/FAMILY) with 19.4%, followed by games with 9.79%. The 5 apps that follow are *Tools, Business, Medical, Personalization, and productivity* which together have a 24.78% share."
   ]
  },
  {
   "cell_type": "code",
   "execution_count": 25,
   "metadata": {
    "scrolled": true
   },
   "outputs": [
    {
     "name": "stdout",
     "output_type": "stream",
     "text": [
      "**Android 'category'**\n",
      "\n",
      "\n",
      "FAMILY : 19.33\n",
      "GAME : 9.82\n",
      "TOOLS : 8.61\n",
      "BUSINESS : 4.36\n",
      "MEDICAL : 4.11\n",
      "PERSONALIZATION : 3.9\n",
      "PRODUCTIVITY : 3.88\n",
      "LIFESTYLE : 3.79\n",
      "FINANCE : 3.59\n",
      "SPORTS : 3.38\n",
      "COMMUNICATION : 3.27\n",
      "HEALTH_AND_FITNESS : 3.0\n",
      "PHOTOGRAPHY : 2.91\n",
      "NEWS_AND_MAGAZINES : 2.6\n",
      "SOCIAL : 2.49\n",
      "TRAVEL_AND_LOCAL : 2.28\n",
      "BOOKS_AND_REFERENCE : 2.27\n",
      "SHOPPING : 2.09\n",
      "DATING : 1.77\n",
      "VIDEO_PLAYERS : 1.7\n",
      "MAPS_AND_NAVIGATION : 1.34\n",
      "FOOD_AND_DRINK : 1.16\n",
      "EDUCATION : 1.1\n",
      "ENTERTAINMENT : 0.9\n",
      "LIBRARIES_AND_DEMO : 0.87\n",
      "AUTO_AND_VEHICLES : 0.87\n",
      "WEATHER : 0.82\n",
      "HOUSE_AND_HOME : 0.76\n",
      "EVENTS : 0.67\n",
      "PARENTING : 0.62\n",
      "ART_AND_DESIGN : 0.62\n",
      "COMICS : 0.57\n",
      "BEAUTY : 0.55\n"
     ]
    }
   ],
   "source": [
    "print(\"**Android \\'category'**\")\n",
    "print('\\n')\n",
    "display_table(android_clean,1)"
   ]
  },
  {
   "cell_type": "markdown",
   "metadata": {},
   "source": [
    "The difference between the Genres and the Category columns is not crystal clear, but one thing we can notice is that the Genres column is much more granular (it has more categories). We're only looking for the bigger picture at the moment, so we'll only work with the Category column moving forward."
   ]
  },
  {
   "cell_type": "code",
   "execution_count": 26,
   "metadata": {
    "scrolled": true
   },
   "outputs": [
    {
     "name": "stdout",
     "output_type": "stream",
     "text": [
      "**Android 'genres'**\n",
      "\n",
      "\n",
      "Tools : 8.6\n",
      "Entertainment : 5.79\n",
      "Education : 5.23\n",
      "Business : 4.36\n",
      "Medical : 4.11\n",
      "Personalization : 3.9\n",
      "Productivity : 3.88\n",
      "Lifestyle : 3.78\n",
      "Finance : 3.59\n",
      "Sports : 3.44\n",
      "Communication : 3.27\n",
      "Action : 3.11\n",
      "Health & Fitness : 3.0\n",
      "Photography : 2.91\n",
      "News & Magazines : 2.6\n",
      "Social : 2.49\n",
      "Travel & Local : 2.27\n",
      "Books & Reference : 2.27\n",
      "Shopping : 2.09\n",
      "Simulation : 1.98\n",
      "Arcade : 1.91\n",
      "Dating : 1.77\n",
      "Casual : 1.72\n",
      "Video Players & Editors : 1.67\n",
      "Maps & Navigation : 1.34\n",
      "Puzzle : 1.24\n",
      "Food & Drink : 1.16\n",
      "Role Playing : 1.08\n",
      "Strategy : 0.98\n",
      "Racing : 0.95\n",
      "Libraries & Demo : 0.87\n",
      "Auto & Vehicles : 0.87\n",
      "Weather : 0.82\n",
      "House & Home : 0.76\n",
      "Adventure : 0.75\n",
      "Events : 0.67\n",
      "Art & Design : 0.58\n",
      "Comics : 0.56\n",
      "Beauty : 0.55\n",
      "Card : 0.49\n",
      "Parenting : 0.48\n",
      "Board : 0.44\n",
      "Casino : 0.41\n",
      "Educational;Education : 0.4\n",
      "Trivia : 0.38\n",
      "Educational : 0.38\n",
      "Education;Education : 0.36\n",
      "Casual;Pretend Play : 0.26\n",
      "Word : 0.24\n",
      "Music : 0.2\n",
      "Puzzle;Brain Games : 0.18\n",
      "Education;Pretend Play : 0.18\n",
      "Racing;Action & Adventure : 0.17\n",
      "Entertainment;Music & Video : 0.16\n",
      "Board;Brain Games : 0.15\n",
      "Arcade;Action & Adventure : 0.15\n",
      "Educational;Pretend Play : 0.14\n",
      "Casual;Action & Adventure : 0.14\n",
      "Casual;Brain Games : 0.12\n",
      "Action;Action & Adventure : 0.12\n",
      "Simulation;Action & Adventure : 0.07\n",
      "Parenting;Education : 0.07\n",
      "Entertainment;Brain Games : 0.07\n",
      "Parenting;Music & Video : 0.06\n",
      "Educational;Brain Games : 0.06\n",
      "Education;Creativity : 0.06\n",
      "Casual;Creativity : 0.06\n",
      "Art & Design;Creativity : 0.06\n",
      "Educational;Creativity : 0.05\n",
      "Adventure;Action & Adventure : 0.05\n",
      "Sports;Action & Adventure : 0.04\n",
      "Role Playing;Pretend Play : 0.04\n",
      "Role Playing;Action & Adventure : 0.04\n",
      "Education;Brain Games : 0.04\n",
      "Education;Action & Adventure : 0.04\n",
      "Simulation;Pretend Play : 0.03\n",
      "Simulation;Education : 0.03\n",
      "Puzzle;Action & Adventure : 0.03\n",
      "Music;Music & Video : 0.03\n",
      "Entertainment;Creativity : 0.03\n",
      "Entertainment;Action & Adventure : 0.03\n",
      "Educational;Action & Adventure : 0.03\n",
      "Education;Music & Video : 0.03\n",
      "Casual;Education : 0.03\n",
      "Board;Action & Adventure : 0.03\n",
      "Video Players & Editors;Music & Video : 0.02\n",
      "Strategy;Action & Adventure : 0.02\n",
      "Puzzle;Creativity : 0.02\n",
      "Entertainment;Pretend Play : 0.02\n",
      "Card;Action & Adventure : 0.02\n",
      "Books & Reference;Education : 0.02\n",
      "Video Players & Editors;Creativity : 0.01\n",
      "Trivia;Education : 0.01\n",
      "Travel & Local;Action & Adventure : 0.01\n",
      "Tools;Education : 0.01\n",
      "Strategy;Education : 0.01\n",
      "Strategy;Creativity : 0.01\n",
      "Role Playing;Education : 0.01\n",
      "Role Playing;Brain Games : 0.01\n",
      "Racing;Pretend Play : 0.01\n",
      "Puzzle;Education : 0.01\n",
      "Parenting;Brain Games : 0.01\n",
      "Music & Audio;Music & Video : 0.01\n",
      "Lifestyle;Pretend Play : 0.01\n",
      "Lifestyle;Education : 0.01\n",
      "Health & Fitness;Education : 0.01\n",
      "Health & Fitness;Action & Adventure : 0.01\n",
      "Entertainment;Education : 0.01\n",
      "Communication;Creativity : 0.01\n",
      "Comics;Creativity : 0.01\n",
      "Casual;Music & Video : 0.01\n",
      "Books & Reference;Creativity : 0.01\n",
      "Board;Pretend Play : 0.01\n",
      "Art & Design;Pretend Play : 0.01\n",
      "Art & Design;Action & Adventure : 0.01\n",
      "Arcade;Pretend Play : 0.01\n",
      "Adventure;Education : 0.01\n",
      "Adventure;Brain Games : 0.01\n"
     ]
    }
   ],
   "source": [
    "print(\"**Android \\'genres'**\")\n",
    "print('\\n')\n",
    "display_table(android_clean,9)"
   ]
  },
  {
   "cell_type": "markdown",
   "metadata": {},
   "source": [
    "Up to this point, we found that the App Store is dominated by apps designed for fun, while Google Play shows a more balanced landscape of both practical and for-fun apps. Now we'd like to get an idea about the kind of apps that have most users."
   ]
  },
  {
   "cell_type": "markdown",
   "metadata": {},
   "source": [
    "## Most Popular Apps by Genre on the App Store"
   ]
  },
  {
   "cell_type": "markdown",
   "metadata": {},
   "source": [
    "The frequency tables we analyzed on the previous screen showed us that apps designed for fun dominate the App Store, while Google Play shows a more balanced landscape of both practical and fun apps. Now, we'd like to determine the kind of apps with the most users.\n",
    "\n",
    "One way to find out what genres are the most popular (have the most users) is to calculate the average number of installs for each app genre. For the Google Play data set, we can find this information in the Installs column, but this information is missing for the App Store data set. As a workaround, we'll take the total number of user ratings as a proxy, which we can find in the rating_count_tot app.\n",
    "\n",
    "Let's start with calculating the average number of user ratings per app genre on the App Store. To do that, we'll need to do the following:\n",
    "\n",
    "- Isolate the apps of each genre\n",
    "- Add up the user ratings for the apps of that genre\n",
    "- Divide the sum by the number of apps belonging to that genre (not by the total number of apps)\n",
    "\n",
    "To calculate the average number of user ratings for each genre, we'll use a for loop inside of another for loop. This is an example of a for loop used inside another for loop:"
   ]
  },
  {
   "cell_type": "code",
   "execution_count": 27,
   "metadata": {},
   "outputs": [
    {
     "name": "stdout",
     "output_type": "stream",
     "text": [
      "Social Networking : 60254\n",
      "Photo & Video : 14689\n",
      "Games : 15587\n",
      "Music : 29047\n",
      "Reference : 27037\n",
      "Health & Fitness : 10802\n",
      "Weather : 23145\n",
      "Utilities : 7928\n",
      "Travel : 19030\n",
      "Shopping : 26635\n",
      "News : 16980\n",
      "Navigation : 19371\n",
      "Lifestyle : 8930\n",
      "Entertainment : 8862\n",
      "Food & Drink : 19934\n",
      "Sports : 15351\n",
      "Book : 10359\n",
      "Finance : 23354\n",
      "Education : 2472\n",
      "Productivity : 8508\n",
      "Business : 5149\n",
      "Catalogs : 3465\n",
      "Medical : 649\n"
     ]
    }
   ],
   "source": [
    "unique_genres = freq_table(ios_clean, 11)\n",
    "\n",
    "for main_genre in unique_genres:\n",
    "    total = 0\n",
    "    len_genre = 0\n",
    "\n",
    "    for app in ios_clean:\n",
    "        genre_app = app[11]\n",
    "    \n",
    "        if genre_app == main_genre:\n",
    "            n_user_rating = float(app[5])\n",
    "            total += n_user_rating\n",
    "            len_genre += 1\n",
    "    \n",
    "    avg_user_rating = total / len_genre\n",
    "    print(main_genre, ':', round(avg_user_rating))"
   ]
  },
  {
   "cell_type": "markdown",
   "metadata": {},
   "source": [
    "While there are a lot of things to consider when selecting an app profile, at this point I'd probably recommend selecting one that has a high number of users relative to the number of apps in the category. 'Reference' for example represents under 1% app share but averages 27,037 users which is above average which tells me that competition isn't as tough as in other categories."
   ]
  },
  {
   "cell_type": "markdown",
   "metadata": {},
   "source": [
    "## Most Popular Apps by Genre on Google Play"
   ]
  },
  {
   "cell_type": "markdown",
   "metadata": {},
   "source": [
    "Above we came up with an app profile recommendation for the App Store based on the number of user ratings. We have data about the number of installs for the Google Play market, so we should be able to get a clearer picture about genre popularity. However, the install numbers don't seem precise enough:"
   ]
  },
  {
   "cell_type": "code",
   "execution_count": 28,
   "metadata": {},
   "outputs": [
    {
     "name": "stdout",
     "output_type": "stream",
     "text": [
      "1,000,000+ : 14.71\n",
      "100,000+ : 11.5\n",
      "10,000+ : 10.62\n",
      "10,000,000+ : 9.75\n",
      "1,000+ : 9.15\n",
      "100+ : 7.32\n",
      "5,000,000+ : 6.29\n",
      "500,000+ : 5.24\n",
      "5,000+ : 4.84\n",
      "50,000+ : 4.82\n",
      "10+ : 3.99\n",
      "500+ : 3.41\n",
      "50,000,000+ : 2.12\n",
      "50+ : 2.12\n",
      "100,000,000+ : 1.97\n",
      "5+ : 0.85\n",
      "1+ : 0.69\n",
      "500,000,000+ : 0.25\n",
      "1,000,000,000+ : 0.21\n",
      "0+ : 0.14\n",
      "0 : 0.01\n"
     ]
    }
   ],
   "source": [
    "def display_table(dataset, index):\n",
    "    table = freq_table(dataset, index)\n",
    "    table_display = []\n",
    "    for key in table:\n",
    "        key_val_as_tuple = (table[key], key)\n",
    "        table_display.append(key_val_as_tuple)\n",
    "\n",
    "    table_sorted = sorted(table_display, reverse = True)\n",
    "    for entry in table_sorted:\n",
    "        print(entry[1], ':', round(entry[0],2))\n",
    "\n",
    "display_table(android_clean,5)"
   ]
  },
  {
   "cell_type": "markdown",
   "metadata": {},
   "source": [
    " We can see that most values are open-ended (100+, 1,000+, 5,000+, etc.). For instance, we don't know whether an app with 100,000+ installs has 100,000 installs, 200,000, or 350,000. However, we don't need very precise data for our purposes — we only want to find out which app genres attract the most users."
   ]
  },
  {
   "cell_type": "markdown",
   "metadata": {},
   "source": [
    "We're going to leave the numbers as they are, which means that we'll consider that an app with 100,000+ installs has 100,000 installs, and an app with 1,000,000+ installs has 1,000,000 installs, and so on. To perform computations, however, we'll need to convert each install number from a string to a float. This means we need to remove the commas and the plus characters, or the conversion will fail and cause an error.\n",
    "\n",
    "To remove characters from strings, we can use the [str.replace(old, new)](https://docs.python.org/3/library/stdtypes.html?#str.replace) method. str.replace() takes in two parameters, old and new, and replaces all occurrences of old within a string with new."
   ]
  },
  {
   "cell_type": "code",
   "execution_count": 29,
   "metadata": {},
   "outputs": [
    {
     "name": "stdout",
     "output_type": "stream",
     "text": [
      "1000000.0\n",
      "<class 'float'>\n"
     ]
    }
   ],
   "source": [
    "n_install = '+1,000,000'\n",
    "n_install_plus = n_install.replace('+','')\n",
    "n_install_comma = n_install_plus.replace(',','')\n",
    "n_install = float(n_install_comma)\n",
    "print(n_install)\n",
    "print(type(n_install))"
   ]
  },
  {
   "cell_type": "code",
   "execution_count": 30,
   "metadata": {},
   "outputs": [
    {
     "name": "stdout",
     "output_type": "stream",
     "text": [
      "ART_AND_DESIGN | 1,887,285 | 60 apps in category\n",
      "AUTO_AND_VEHICLES | 632,501 | 84 apps in category\n",
      "BEAUTY | 513,152 | 53 apps in category\n",
      "BOOKS_AND_REFERENCE | 7,641,778 | 218 apps in category\n",
      "BUSINESS | 1,663,759 | 419 apps in category\n",
      "COMICS | 817,657 | 55 apps in category\n",
      "COMMUNICATION | 35,153,714 | 314 apps in category\n",
      "DATING | 828,971 | 170 apps in category\n",
      "EDUCATION | 1,782,566 | 106 apps in category\n",
      "ENTERTAINMENT | 11,375,402 | 87 apps in category\n",
      "EVENTS | 249,581 | 64 apps in category\n",
      "FINANCE | 1,319,851 | 345 apps in category\n",
      "FOOD_AND_DRINK | 1,891,060 | 112 apps in category\n",
      "HEALTH_AND_FITNESS | 3,972,300 | 288 apps in category\n",
      "HOUSE_AND_HOME | 1,331,541 | 73 apps in category\n",
      "LIBRARIES_AND_DEMO | 630,904 | 84 apps in category\n",
      "LIFESTYLE | 1,369,955 | 364 apps in category\n",
      "GAME | 14,256,218 | 944 apps in category\n",
      "FAMILY | 3,345,019 | 1858 apps in category\n",
      "MEDICAL | 96,944 | 395 apps in category\n",
      "SOCIAL | 22,961,790 | 239 apps in category\n",
      "SHOPPING | 6,966,909 | 201 apps in category\n",
      "PHOTOGRAPHY | 16,636,241 | 280 apps in category\n",
      "SPORTS | 3,373,768 | 325 apps in category\n",
      "TRAVEL_AND_LOCAL | 13,218,663 | 219 apps in category\n",
      "TOOLS | 9,785,955 | 828 apps in category\n",
      "PERSONALIZATION | 4,086,652 | 375 apps in category\n",
      "PRODUCTIVITY | 15,530,942 | 373 apps in category\n",
      "PARENTING | 525,352 | 60 apps in category\n",
      "WEATHER | 4,570,893 | 79 apps in category\n",
      "VIDEO_PLAYERS | 24,121,489 | 163 apps in category\n",
      "NEWS_AND_MAGAZINES | 9,472,807 | 250 apps in category\n",
      "MAPS_AND_NAVIGATION | 3,900,635 | 129 apps in category\n"
     ]
    }
   ],
   "source": [
    "cat_and_install = freq_table(android_clean,1)\n",
    "\n",
    "for category in cat_and_install:\n",
    "    total = 0\n",
    "    len_category = 0 \n",
    "    \n",
    "    for app in android_clean:\n",
    "        cat_in_clean = app[1]   \n",
    "        if cat_in_clean == category:\n",
    "            \n",
    "            install_app = app[5]\n",
    "            install_app = install_app.replace('+', '')\n",
    "            install_app = install_app.replace(',', '')              \n",
    "            \n",
    "            total += float(install_app)\n",
    "            len_category += 1\n",
    "    \n",
    "    avg_andr_installs = total / len_category\n",
    "    \n",
    "    print(category,'|',f'{round(avg_andr_installs):,}','|', len_category, 'apps in category')"
   ]
  },
  {
   "cell_type": "markdown",
   "metadata": {},
   "source": [
    "# Conclusion"
   ]
  },
  {
   "cell_type": "markdown",
   "metadata": {},
   "source": [
    "There defintely are some good choices in terms of sectors to pursue, the sector we found to be a good starting point to test is the LIFESTYLE sector. Average installs in that sector per app is 1,369,955 installs with 364 apps focusing on anything between DIY lifestyle to alarm clocks. The reason this seems like a good choice is that relative to other sectors it's not as competitive which helps with easier market penetration."
   ]
  },
  {
   "cell_type": "code",
   "execution_count": 32,
   "metadata": {},
   "outputs": [
    {
     "name": "stdout",
     "output_type": "stream",
     "text": [
      "Dollhouse Decorating Games : 5,000,000+\n",
      "metroZONE : 10,000,000+\n",
      "Easy Hair Style Design : 100,000+\n",
      "Talking Babsy Baby: Baby Games : 10,000,000+\n",
      "Black Wallpaper, AMOLED, Dark Background: Darkify : 5,000,000+\n",
      "Girly Wallpapers Backgrounds : 1,000,000+\n",
      "Chart - Myanmar Keyboard : 5,000,000+\n",
      "Easy Makeup Tutorials : 1,000,000+\n",
      "Horoscopes – Daily Zodiac Horoscope and Astrology : 10,000,000+\n",
      "Entel : 1,000,000+\n",
      "ZenUI Safeguard : 1,000,000+\n",
      "Live 4D Results ! (MY & SG) : 5,000,000+\n",
      "Diary with lock : 10,000,000+\n",
      "FOSSIL Q: DESIGN YOUR DIAL : 500,000+\n",
      "Telstra : 5,000,000+\n",
      "Family Locator - GPS Tracker : 10,000,000+\n",
      "Van Nien 2018 - Lich Van su & Lich Am : 1,000,000+\n",
      "Safeway : 1,000,000+\n",
      "HTC Speak : 10,000,000+\n",
      "Kawaii Easy Drawing : How to draw Step by Step : 5,000,000+\n",
      "Tattoodo - Find your next tattoo : 1,000,000+\n",
      "H&M : 10,000,000+\n",
      "Samsung+ : 50,000,000+\n",
      "Anime Avatar Creator: Make Your Own Avatar : 1,000,000+\n",
      "Beautiful Design Birthday Cake : 500,000+\n",
      "Pronunciation and know the name of the caller from his number : 500,000+\n",
      "Super Slime Simulator - Satisfying Slime App : 1,000,000+\n",
      "Caf - My Account : 5,000,000+\n",
      "H Pack : 1,000,000+\n",
      "Family convenience store FamilyMart : 1,000,000+\n",
      "w UN map : 1,000,000+\n",
      "Official Matsumoto Kiyoshi application : 1,000,000+\n",
      "Galaxy Gift : 10,000,000+\n",
      "PASS by KT (formerly KT certified) : 1,000,000+\n",
      "Safety stepping stone : 1,000,000+\n",
      "Rate Guide Bill Letter : 10,000,000+\n",
      "US Mission - buy gourmet movie KTV : 500,000+\n",
      "OK cashbag [point of pleasure] : 10,000,000+\n",
      "MK eCatalog : 1,000,000+\n",
      "Vaniday - Beauty Booking App : 100,000+\n",
      "Fashion in Vogue : 100,000+\n",
      "Mirror : 10,000,000+\n",
      "StyleSeat : 500,000+\n",
      "Wedding Countdown Widget : 1,000,000+\n",
      "My Day - Countdown Calendar 🗓️ : 1,000,000+\n",
      "justWink Greeting Cards : 1,000,000+\n",
      "Wedding LookBook by The Knot : 100,000+\n",
      "Big Days - Events Countdown : 1,000,000+\n",
      "Wedding Planner by WeddingWire - Venues, Checklist : 1,000,000+\n",
      "Been Together (Ad) - D-day : 10,000,000+\n",
      "WedMeGood - Wedding Planner : 100,000+\n",
      "DIY Garden Ideas : 500,000+\n",
      "Brit + Co : 10,000+\n",
      "Creative Ideas - DIY & Craft : 100,000+\n",
      "Homestyler Interior Design & Decorating Ideas : 5,000,000+\n",
      "JOANN - Crafts & Coupons : 1,000,000+\n",
      "Wheretoget: Shop in style : 500,000+\n",
      "My Dressing - Fashion closet : 500,000+\n",
      "Chictopia : 10,000+\n",
      "Scarf Fashion Designer : 1,000,000+\n",
      "Zara : 10,000,000+\n",
      "Real Estate by Movoto : 100,000+\n",
      "Etta Homes : 50,000+\n",
      "Houlihan Lawrence : 5,000+\n",
      "Home Scouting® MLS Mobile : 100,000+\n",
      "Housing-Real Estate & Property : 1,000,000+\n",
      "ZipRealty Real Estate & Homes : 100,000+\n",
      "Sotheby's International Realty : 50,000+\n",
      "Zoopla Property Search UK - Home to buy & rent : 1,000,000+\n",
      "Neighborhoods & Apartments : 100,000+\n",
      "Keller Williams Real Estate : 1,000,000+\n",
      "Relax Rain ~ Rain Sounds : 5,000,000+\n",
      "Relax Ocean ~ Nature Sounds : 500,000+\n",
      "Bed Time Fan - White Noise Sleep Sounds : 500,000+\n",
      "Nature Sounds : 1,000,000+\n",
      "SleepyTime: Bedtime Calculator : 500,000+\n",
      "White Noise Baby : 1,000,000+\n",
      "White Noise ~ Sleeping Sounds : 100,000+\n",
      "Journey - Diary, Journal : 1,000,000+\n",
      "7 Day Food Journal Challenge : 100,000+\n",
      "B-Dubs® : 500,000+\n",
      "C by GE : 10,000+\n",
      "CPlus for Craigslist - Officially Licensed : 1,000,000+\n",
      "Community by C Space : 5,000+\n",
      "Moto LED for Moto X & E [Root] : 500,000+\n",
      "f'east : 5,000+\n",
      "G-SHOCK+ : 100,000+\n",
      "G-SHOCK Connected : 50,000+\n",
      "G-Homa : 50,000+\n",
      "A41 WatchFace for Android Wear Smart Watch : 5,000+\n",
      "H*nest Meditation : 5,000+\n",
      "Niche: College, K-12, and Neighborhood Search : 5,000+\n",
      "💎 I'm rich : 10,000+\n",
      "I'm Rich - Trump Edition : 10,000+\n",
      "Cook'n Recipe App : 10,000+\n",
      "Eat'n Park : 50,000+\n",
      "Band O'Clock : 100,000+\n",
      "Fossil Q : 500,000+\n",
      "Fossil Q Legacy : 50,000+\n",
      "Type S LED : 100,000+\n",
      "Tinder : 100,000,000+\n",
      "AT&T Digital Life : 1,000,000+\n",
      "AT&T Smart Limits℠ : 10,000,000+\n",
      "T-Mobile Tuesdays : 5,000,000+\n",
      "T-shirt design - Snaptee : 1,000,000+\n",
      "Kicker U : 5,000+\n",
      "Kicker U Lite : 50,000+\n",
      "Alarmy (Sleep If U Can) - Pro : 10,000+\n",
      "Be U Salons Hair-Beauty Deals In Delhi & Bangalore : 100,000+\n",
      "WowBox : 5,000,000+\n",
      "PLAYBULB X : 100,000+\n",
      "Z App : 50,000+\n",
      "Best Blood Type AB: Food Diet & Personality : 1,000+\n",
      "Kenmore Smart AC : 5,000+\n",
      "LG AC Smart Diagnosis : 100,000+\n",
      "All Type Ac Repair & Services : 10,000+\n",
      "Digital Clock : Simple, Tiny, Ad-free Desk Clock. : 50,000+\n",
      "Tafsiir Quraan MP3 Af Soomaali Quraanka Kariimka : 1,000+\n",
      "What's Up : 1,000,000+\n",
      "Elim AG : 100+\n",
      "Lakeside AG Moultrie : 50+\n",
      "DREAM-e: Dream Analysis A.I. : 10,000+\n",
      "AJ Men's Grooming : 100+\n",
      "AJ and Alyssa : 100+\n",
      "A.J. Green Wallpapers 4 Fans : 5+\n",
      "Book of AK-47 : 500+\n",
      "Al-Moazin Lite (Prayer Times) : 10,000,000+\n",
      "12 Step Meditations & Sober Prayers AA NA AL-ANON : 50,000+\n",
      "Taha Al Junaid Quran Mp3 : 50,000+\n",
      "Muslim Pro - Prayer Times, Azan, Quran & Qibla : 10,000,000+\n",
      "I am rich : 100,000+\n",
      "I am rich VIP : 10,000+\n",
      "I am extremely Rich : 1,000+\n",
      "I am Rich Person : 1,000+\n",
      "I am Millionaire - Richest guy in the town : 5,000+\n",
      "Trell: An app for Explorers | Best Wanderlust App : 100,000+\n",
      "Diary with lock password : 5,000,000+\n",
      "The PCH App : 1,000,000+\n",
      "Access Point Finder : 10,000+\n",
      "SleepCloud Backup for Sleep as Android : 100,000+\n",
      "Sleep as Android Unlock : 1,000,000+\n",
      "Sleep as Android: Sleep cycle tracker, smart alarm : 10,000,000+\n",
      "CAPTCHA Pack for Sleep as Android : 50,000+\n",
      "Sleep as Microsoft Band Add-On : 1,000+\n",
      "Timely Alarm Clock : 10,000,000+\n",
      "Alarm Clock Plus★ : 5,000,000+\n",
      "Au Pair Legend : 1,000+\n",
      "view.com.au - Buy, Rent or Research Real Estate : 50,000+\n",
      "Neuvaine au Saint-Esprit : 10,000+\n",
      "Neuvaines et prières au Coeur Sacré de Jésus : 5,000+\n",
      "Au Rubis les bijoutiers : 100+\n",
      "AV MAX : 1,000+\n",
      "MyAV Remote for Denon & Marantz AV Receivers : 50,000+\n",
      "Kinot Tisha'a Be'av - Ashkenaz : 5,000+\n",
      "Armani Exchange Connected : 10,000+\n",
      "AX!OM : 50+\n",
      "AX Selfie : 500+\n",
      "Ay Telekom Oim : 100+\n",
      "Holy Quran Mehmet Emin Ay : 10,000+\n",
      "Lunar Calendar : 1,000+\n",
      "Lunar Calendar Lite : 100,000+\n",
      "Long Realty AZ Home Search : 10,000+\n",
      "Graffiti Letters (A-Z) : 50,000+\n",
      "Barista Coffee Dictionary A-Z : 10,000+\n",
      "Ba Zi Fortune : 100,000+\n",
      "BC Liquor Stores : 50,000+\n",
      "BC's Pizza : 1,000+\n",
      "BC Mobile Intro - Americas : 50+\n",
      "BC Pizza : 500+\n",
      "bd's Mongolian Grill : 10,000+\n",
      "Helping BD : 100+\n",
      "Be My Eyes - Helping the blind : 500,000+\n",
      "CE BF : 50+\n",
      "Freedom Christian BF : 10+\n",
      "Cute Questions BF : 1,000+\n",
      "BG BRIDAL GALLERY : 1,000+\n",
      "Board Game Stats: Play tracking for tabletop games : 5,000+\n",
      "Photo Background Changer 2018 - Blur Background : 5,000,000+\n",
      "Barbers.BH : 10+\n",
      "Lexus Tech BH Service Pro : 10+\n",
      "B'H BURGER HEIM : 10+\n",
      "BI-LO : 10,000+\n",
      "BI-LO Rx : 10,000+\n",
      "happn – Local dating app : 10,000,000+\n",
      "BMH-BJ Congregation : 10+\n",
      "BURGER KING® App : 5,000,000+\n",
      "BURGER KING® MOBILE APP : 5,000,000+\n",
      "Free Coupons for Burger King : 5,000+\n",
      "BK Murli Offline April 2017 : 5,000+\n",
      "Read it easy for BK : 50+\n",
      "Dr Bk Sachin bhai : 1,000+\n",
      "BK Suraj bhai : 1,000+\n",
      "BK Shivani Videos : 1,000+\n",
      "Official Madhuban Murli : 10,000+\n",
      "Bk Usha behn : 1,000+\n",
      "Burger King Italia : 500,000+\n",
      "bm offers : 50,000+\n",
      "BN PERKS™ : 100+\n",
      "Bangla Calendar 1425: (EN-BN-AR) Holiday : 1,000+\n",
      "Bee.Bo : 1,000+\n",
      "BP and Sugar Test Prank : 1,000,000+\n",
      "BP Log lite : 100+\n",
      "bp Magazine for Bipolar : 1,000+\n",
      "Bar BQ Tonight Dublin : 50+\n",
      "Pick-a-Paint : 50,000+\n",
      "BR : 100,000+\n",
      "BT Church : 1,000+\n",
      "MagicLight BT : 10,000+\n",
      "sustainability@BU : 1,000+\n",
      "On a Bu Pour Vous OBPV : 10+\n",
      "Büfe BU : 100+\n",
      "van Gennip Textiles BV : 100+\n",
      "StartPage Private Search : 100,000+\n",
      "Philips Hue : 1,000,000+\n",
      "BW App : 5,000+\n",
      "Bell and Wyson Camera BW Pix + : 1,000+\n",
      "One Today by Google : 100,000+\n",
      "CA Speakers Free : 5,000+\n",
      "CA Speakers : 100+\n",
      "CB Underground : 500+\n",
      "Design innovation CD Cassette : 500+\n",
      "DIY Crafts Cds : 50,000+\n",
      "CD Live - Club del Deportista : 500+\n",
      "Creative CD Letter Holder : 10+\n",
      "My Movies Pro - Movie & TV Collection Library : 10,000+\n",
      "Best Design CD Ideas : 10+\n",
      "DIY cd rom ideas : 500+\n",
      "DIY Recycled CD Wall Art : 1,000+\n",
      "DIY CD Craft Ideas : 1,000+\n",
      "Music Collector Inventory Organizer UPC Discogs : 10,000+\n",
      "CE KISIO : 100+\n",
      "CE AR LOG : 1+\n",
      "CE Airbus : 100+\n",
      "CF SHOP! : 10,000+\n",
      "CF Appreciation : 1,000+\n",
      "Unity CF : 100+\n",
      "Overcomers CF - GA : 100+\n",
      "Team CF : 100+\n",
      "CF Calculator : 1,000+\n",
      "CF Climb : 100+\n",
      "Villarreal CF Wallpapers 4 Fans : 50+\n",
      "Valencia CF Wallpapers 4 Fans : 100+\n",
      "Málaga CF Wallpapers 4 Fans : 10+\n",
      "Calvary.ch App : 500+\n",
      "autoricardo.ch – vehicles : 100,000+\n",
      "Legit Check App by Ch Daniel : 1,000+\n",
      "usgang.ch : 100,000+\n",
      "CI Staff App : 10+\n",
      "Company Kitchen : 10,000+\n",
      "Ck Coif : 10+\n",
      "DAILY: Free Classifieds App for Android : 500,000+\n",
      "App for Craigslist Pro - Buy & Sell Postings : 100,000+\n",
      "CL Pebble Apps : 5,000+\n",
      "E2CR CL : 10+\n",
      "Color CL : 100+\n",
      "Co-op CRS : 100,000+\n",
      "VCalendar - VenkatRama and Co : 10,000+\n",
      "Aquarium Co-Op Podcast : 1,000+\n",
      "Co-Dependents Anonymous : 500+\n",
      "Holl & Co Barbers : 500+\n",
      "CP Clicker : 10,000+\n",
      "CP HAPPS - Pittsburgh Events : 5,000+\n",
      "CP Surprise : 100,000+\n",
      "CP Parquet : 100+\n",
      "theCut : 50,000+\n",
      "C.S. Lewis Daily Quotes : 10,000+\n",
      "The Church at CW : 100+\n",
      "CX-95WIFI : 500+\n",
      "Theme for Tecno Camon CX / C8 : 10,000+\n",
      "Oración CX : 5,000+\n",
      "CX-41 : 100+\n",
      "Recycling Cy : 1,000+\n",
      "Cy-Fair Christian Church : 100+\n",
      "CZ-USA : 1,000+\n",
      "KFC CZ : 100,000+\n",
      "Breweries (CZ/SK) : 50,000+\n",
      "Vira.cz Widget : 1,000+\n",
      "DB HOME : 100+\n",
      "AC DC Power Monitor : 10+\n",
      "The Divine Feminine App: the DF App : 1,000+\n",
      "MexiRoomies - roomies, mexico, df, apt, house room : 500+\n",
      "Aproveita DF : 1+\n",
      "DG Hair : 10+\n",
      "Daily Horoscope : 10,000,000+\n",
      "D-H Pharmacy : 1,000+\n",
      "DH Mariage : 50+\n",
      "S-Home DK : 1,000+\n",
      "Salah Widget (DK+Malmo) : 10,000+\n",
      "DK Childcare Centers : 500+\n",
      "Dr. D.K. Olukoya Sermons : 100+\n",
      "Dr D K Olukoya : 1+\n",
      "DK Hair Design : 10+\n",
      "Notes : Colorful Notepad Note,To Do,Reminder,Memo : 1,000,000+\n",
      "DP and Status Images | All Latest Status 2018 : 10,000+\n",
      "100000+ Messages - DP, Status, Jokes & GIF 2018 : 10,000+\n",
      "Taco Bell : 1,000,000+\n",
      "Culver's : 100,000+\n",
      "DT : 100+\n",
      "The Secret Daily Teachings : 1,000+\n",
      "du app : 1,000,000+\n",
      "Sports DV : 10,000+\n",
      "DV Youth : 100+\n",
      "White Classic Petite Watch Theme for DW : 500+\n",
      "DX Alerts : 1,000+\n",
      "My Dy Dice - 3D Dice Roller : 100+\n",
      "dy n fly : 50+\n",
      "EB Experience : 1+\n",
      "TN Electricity (TNEB) : 10,000+\n",
      "EC Security : 1,000+\n",
      "ec.tv : 50+\n",
      "Arrayanes EC : 100+\n",
      "EG India : 100+\n",
      "Propertyfinder : 100,000+\n",
      "EH! : 1,000+\n",
      "EJ Ecuador : 100+\n",
      "Nights Keeper (do not disturb) : 500,000+\n",
      "EK Platinum : 10,000+\n",
      "Ek Onkar Mantras : 5,000+\n",
      "Voice Lock Screen : 1,000,000+\n",
      "The Holy Rosary : 1,000,000+\n",
      "EO Bijbel Open : 10,000+\n",
      "EO LAC : 10+\n",
      "EP Church Annapolis : 100+\n",
      "EP Horlogerie : 1,000+\n",
      "EP Joaillerie : 5,000+\n",
      "ER : 500+\n",
      "EU Exit poll : 100+\n",
      "GastroHunter.EU : 10+\n",
      "MOTOBAZAR EU : 100+\n",
      "NissanConnect® EV & Services : 50,000+\n",
      "Emerge EV App (eBike App) : 1,000+\n",
      "EV Real Estate Search : 5,000+\n",
      "Ev Dizayn : 5,000+\n",
      "myChevrolet : 1,000,000+\n",
      "EvAk Smart Home : 500+\n",
      "Ex Quotes : 50,000+\n",
      "How To Get Your Ex Back Fast : 5,000+\n",
      "EY Staff ENTERTAINER : 10,000+\n",
      "My EZ-Link Mobile : 100,000+\n",
      "Comunidad De Fe Minitries : 500+\n",
      "Ríos de Fe : 1,000+\n",
      "Candy simply-Fi : 100,000+\n",
      "Tassa.fi Finland : 50,000+\n",
      "Lennox iComfort Wi-Fi : 50,000+\n",
      "Fish|Hunt FL : 100,000+\n",
      "Discovery Church Florida : 1,000+\n",
      "South Florida AA Meetings : 1,000+\n",
      "Trinity Church Deltona, FL : 500+\n",
      "Beacon Baptist Jupiter, FL : 100+\n",
      "Alachua County Sheriff FL : 100+\n",
      "Jax Sheriff (FL) : 5,000+\n",
      "My MLS App : 100,000+\n",
      "LifePoint Church - FL : 50+\n",
      "Gainesville Florida Police Department : 500+\n",
      "South Florida MLS : 10,000+\n",
      "F N Bail Bonds : 500+\n",
      "Sona - Nær við allastaðni : 1,000+\n",
      "GKPB FP Online Church : 1,000+\n",
      "FQ Magazine : 100+\n",
      "FQ India : 10+\n",
      "Fuel Rewards® program : 1,000,000+\n",
      "Scoreboard FR : 100+\n",
      "lesparticuliers.fr : 50,000+\n",
      "iHoroscope - 2018 Daily Horoscope & Astrology : 10,000,000+\n"
     ]
    }
   ],
   "source": [
    "for app in android_clean:\n",
    "    if app[1] == 'LIFESTYLE':\n",
    "        print(app[0], ':', app[5])"
   ]
  }
 ],
 "metadata": {
  "kernelspec": {
   "display_name": "Python 3",
   "language": "python",
   "name": "python3"
  },
  "language_info": {
   "codemirror_mode": {
    "name": "ipython",
    "version": 3
   },
   "file_extension": ".py",
   "mimetype": "text/x-python",
   "name": "python",
   "nbconvert_exporter": "python",
   "pygments_lexer": "ipython3",
   "version": "3.8.2"
  }
 },
 "nbformat": 4,
 "nbformat_minor": 2
}
