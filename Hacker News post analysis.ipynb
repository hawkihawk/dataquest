{
 "cells": [
  {
   "cell_type": "markdown",
   "metadata": {
    "collapsed": true
   },
   "source": [
    "# Hacker News - Post Performance Analysis"
   ]
  },
  {
   "cell_type": "markdown",
   "metadata": {},
   "source": [
    "In the following project we are analysing 2 types of posts from the site Hacker News. These posts are \"Ask HN\", where users submit their post asking about something, and \"Show HN\" where users submit a news or a project for other people to see. \n",
    "\n",
    "We will be analysing:\n",
    "\n",
    "1. Which kind of post receives more comments on average\n",
    "2. If posts created at a specific time of the day receive more comments on average"
   ]
  },
  {
   "cell_type": "markdown",
   "metadata": {},
   "source": [
    "We will work with the database 'hacker_news.csv', which has approximately 20,000 rows, all of which are posts in Hacker News that received comments"
   ]
  },
  {
   "cell_type": "markdown",
   "metadata": {},
   "source": [
    "We start by opening and reading this database as a list of lists."
   ]
  },
  {
   "cell_type": "code",
   "execution_count": 1,
   "metadata": {},
   "outputs": [],
   "source": [
    "from csv import reader\n",
    "open_file = open('hacker_news.csv')\n",
    "read_file = reader(open_file)\n",
    "hn = list(read_file)"
   ]
  },
  {
   "cell_type": "markdown",
   "metadata": {},
   "source": [
    "We take a look at our column headers and take a sample to see how each row looks like and what kind of data are we working with:"
   ]
  },
  {
   "cell_type": "code",
   "execution_count": 2,
   "metadata": {},
   "outputs": [
    {
     "name": "stdout",
     "output_type": "stream",
     "text": [
      "[['id', 'title', 'url', 'num_points', 'num_comments', 'author', 'created_at']]\n"
     ]
    }
   ],
   "source": [
    "print(hn[:1])"
   ]
  },
  {
   "cell_type": "code",
   "execution_count": 3,
   "metadata": {},
   "outputs": [
    {
     "name": "stdout",
     "output_type": "stream",
     "text": [
      "[['12224879', 'Interactive Dynamic Video', 'http://www.interactivedynamicvideo.com/', '386', '52', 'ne0phyte', '8/4/2016 11:52'], ['10975351', 'How to Use Open Source and Shut the Fuck Up at the Same Time', 'http://hueniverse.com/2016/01/26/how-to-use-open-source-and-shut-the-fuck-up-at-the-same-time/', '39', '10', 'josep2', '1/26/2016 19:30'], ['11964716', \"Florida DJs May Face Felony for April Fools' Water Joke\", 'http://www.thewire.com/entertainment/2013/04/florida-djs-april-fools-water-joke/63798/', '2', '1', 'vezycash', '6/23/2016 22:20'], ['11919867', 'Technology ventures: From Idea to Enterprise', 'https://www.amazon.com/Technology-Ventures-Enterprise-Thomas-Byers/dp/0073523429', '3', '1', 'hswarna', '6/17/2016 0:01']]\n"
     ]
    }
   ],
   "source": [
    "print(hn[1:5])"
   ]
  },
  {
   "cell_type": "markdown",
   "metadata": {},
   "source": [
    "To work with the data and obtain proper results we do not need the headers. Hoverver, it will be handy to have a variable for them, just in case we need a refresher. We assign the headers to this variable and remove them from the rest of the database."
   ]
  },
  {
   "cell_type": "code",
   "execution_count": 4,
   "metadata": {},
   "outputs": [
    {
     "name": "stdout",
     "output_type": "stream",
     "text": [
      "[['id', 'title', 'url', 'num_points', 'num_comments', 'author', 'created_at']]\n",
      "[['12224879', 'Interactive Dynamic Video', 'http://www.interactivedynamicvideo.com/', '386', '52', 'ne0phyte', '8/4/2016 11:52'], ['10975351', 'How to Use Open Source and Shut the Fuck Up at the Same Time', 'http://hueniverse.com/2016/01/26/how-to-use-open-source-and-shut-the-fuck-up-at-the-same-time/', '39', '10', 'josep2', '1/26/2016 19:30'], ['11964716', \"Florida DJs May Face Felony for April Fools' Water Joke\", 'http://www.thewire.com/entertainment/2013/04/florida-djs-april-fools-water-joke/63798/', '2', '1', 'vezycash', '6/23/2016 22:20'], ['11919867', 'Technology ventures: From Idea to Enterprise', 'https://www.amazon.com/Technology-Ventures-Enterprise-Thomas-Byers/dp/0073523429', '3', '1', 'hswarna', '6/17/2016 0:01'], ['10301696', 'Note by Note: The Making of Steinway L1037 (2007)', 'http://www.nytimes.com/2007/11/07/movies/07stein.html?_r=0', '8', '2', 'walterbell', '9/30/2015 4:12']]\n"
     ]
    }
   ],
   "source": [
    "headers = hn[:1]\n",
    "hn = hn[1:]\n",
    "print(headers)\n",
    "print(hn[:5])"
   ]
  },
  {
   "cell_type": "markdown",
   "metadata": {},
   "source": [
    "Now that we have a cleaner database, we proceed to look for posts starting with \"Ask HN\" and \"Show HN\". We probably have posts with capital and lowercase letters, so to be safe we convert everything to lowercase with the method string.lower()"
   ]
  },
  {
   "cell_type": "code",
   "execution_count": 5,
   "metadata": {},
   "outputs": [
    {
     "name": "stdout",
     "output_type": "stream",
     "text": [
      "1744\n",
      "1162\n",
      "17194\n"
     ]
    }
   ],
   "source": [
    "ask_posts = []\n",
    "show_posts = []\n",
    "other_posts = []\n",
    "\n",
    "for rows in hn:\n",
    "    title = rows[1]\n",
    "    \n",
    "    if title.lower().startswith('ask hn'):\n",
    "        ask_posts.append(rows)\n",
    "        \n",
    "    elif title.lower().startswith('show hn'):\n",
    "        show_posts.append(rows)\n",
    "    \n",
    "    else:\n",
    "        other_posts.append(rows)\n",
    "        \n",
    "print(len(ask_posts))\n",
    "print(len(show_posts))\n",
    "print(len(other_posts))\n"
   ]
  },
  {
   "cell_type": "markdown",
   "metadata": {},
   "source": [
    "It is interesting to see that there are much more \"Other\" posts than Ask HN or Show HN. A very good thing about these numbers is that the amount of Ask HN and Show HN is not too different, so when we compare them we can get more reasonable conclusions without having to account for a very big difference in the total number of posts."
   ]
  },
  {
   "cell_type": "markdown",
   "metadata": {},
   "source": [
    "### Finding out the average number of comments for each kind of post"
   ]
  },
  {
   "cell_type": "markdown",
   "metadata": {},
   "source": [
    "Next step, now that we have split Ask HN and Show  HN in 2 clean lists, is to find out how many comments each of them has on average."
   ]
  },
  {
   "cell_type": "code",
   "execution_count": 6,
   "metadata": {},
   "outputs": [
    {
     "name": "stdout",
     "output_type": "stream",
     "text": [
      "Average comments per Ask HN post: 14.04\n",
      "Average comments per Show HN post:  10.32\n"
     ]
    }
   ],
   "source": [
    "total_ask_comments = 0\n",
    "\n",
    "for posts in ask_posts:\n",
    "    num_comments = posts[4]\n",
    "    num_comments = int(num_comments)\n",
    "    total_ask_comments += num_comments\n",
    "    \n",
    "avg_ask_comments = round(total_ask_comments / len(ask_posts), 2)\n",
    "print(\"Average comments per Ask HN post:\", avg_ask_comments)\n",
    "\n",
    "total_show_comments = 0\n",
    "\n",
    "for posts in show_posts:\n",
    "    num_comments = posts[4]\n",
    "    num_comments = int(num_comments)\n",
    "    total_show_comments += num_comments\n",
    "\n",
    "avg_show_comments = round(total_show_comments / len(show_posts), 2)\n",
    "print(\"Average comments per Show HN post: \", avg_show_comments)"
   ]
  },
  {
   "cell_type": "markdown",
   "metadata": {},
   "source": [
    "This answers our question 1: Which  posts receive more comments on average?\n",
    "\n",
    "#### It seems like the Ask HN posts receive 26% more comments on average than Show HN posts. \n",
    "\n",
    "In the most practical scenario, Hacker News can use this information to assign more moderators to the Ask HN category, given that they have both more posts and more comments."
   ]
  },
  {
   "cell_type": "markdown",
   "metadata": {},
   "source": [
    "### Calculating the posts and comments accross time"
   ]
  },
  {
   "cell_type": "markdown",
   "metadata": {},
   "source": [
    "After seeing that the posts with the most comments are the Ask HN posts, we will focus the analysis on this category. We will start by calculating the number of Ask HN posts per hour created, along with the number of comments received."
   ]
  },
  {
   "cell_type": "code",
   "execution_count": 7,
   "metadata": {},
   "outputs": [
    {
     "name": "stdout",
     "output_type": "stream",
     "text": [
      "{'09': 45, '13': 85, '10': 59, '14': 107, '16': 108, '23': 68, '12': 73, '17': 100, '15': 116, '21': 109, '20': 80, '02': 58, '18': 109, '03': 54, '05': 46, '19': 110, '01': 60, '22': 71, '08': 48, '04': 47, '00': 55, '06': 44, '07': 34, '11': 58}\n",
      "{'09': 251, '13': 1253, '10': 793, '14': 1416, '16': 1814, '23': 543, '12': 687, '17': 1146, '15': 4477, '21': 1745, '20': 1722, '02': 1381, '18': 1439, '03': 421, '05': 464, '19': 1188, '01': 683, '22': 479, '08': 492, '04': 337, '00': 447, '06': 397, '07': 267, '11': 641}\n"
     ]
    }
   ],
   "source": [
    "import datetime as dt\n",
    "\n",
    "result_list = []\n",
    "\n",
    "#We create a list only with the post creation times and the number of comments received on that post\n",
    "\n",
    "for posts in ask_posts:\n",
    "    time_and_comments = [posts[6], int(posts[4])]\n",
    "    result_list.append(time_and_comments)\n",
    "\n",
    "#Now, for each row (1 post) in this new list, we count how many posts we had per hour and how many comments we had per hour\n",
    "\n",
    "counts_by_hour = {}\n",
    "comments_by_hour = {}\n",
    "\n",
    "for rows in result_list:\n",
    "    hour = rows[0]\n",
    "    hour = dt.datetime.strptime(hour, \"%m/%d/%Y %H:%M\" )\n",
    "#Converted string for the time into a datetime object, then extracted only the hour and converted it back to a string    \n",
    "    hour = hour.strftime(\"%H\")\n",
    "    if hour not in counts_by_hour:\n",
    "        counts_by_hour[hour] = 1\n",
    "        comments_by_hour[hour]= rows[1]\n",
    "    \n",
    "    else:\n",
    "        counts_by_hour[hour] += 1\n",
    "        comments_by_hour[hour] += rows[1]\n",
    "\n",
    "print(counts_by_hour)\n",
    "print(comments_by_hour)\n",
    "    \n"
   ]
  },
  {
   "cell_type": "markdown",
   "metadata": {},
   "source": [
    "Adding all the keys in the first dictionary we confirm that all the 1744 posts have been accounted for. Our next step is to find out the average number of comments per post per hour."
   ]
  },
  {
   "cell_type": "code",
   "execution_count": 8,
   "metadata": {},
   "outputs": [
    {
     "name": "stdout",
     "output_type": "stream",
     "text": [
      "[['09', 5.58], ['13', 14.74], ['10', 13.44], ['14', 13.23], ['16', 16.8], ['23', 7.99], ['12', 9.41], ['17', 11.46], ['15', 38.59], ['21', 16.01], ['20', 21.52], ['02', 23.81], ['18', 13.2], ['03', 7.8], ['05', 10.09], ['19', 10.8], ['01', 11.38], ['22', 6.75], ['08', 10.25], ['04', 7.17], ['00', 8.13], ['06', 9.02], ['07', 7.85], ['11', 11.05]]\n"
     ]
    }
   ],
   "source": [
    "avg_by_hour = []\n",
    "\n",
    "for posts in counts_by_hour:\n",
    "    avg_by_hour.append([posts, round(comments_by_hour[posts]/counts_by_hour[posts],2)])\n",
    "\n",
    "print(avg_by_hour)"
   ]
  },
  {
   "cell_type": "markdown",
   "metadata": {},
   "source": [
    "Right now the data looks a little bit messy and it is hard to read. Our next step is to sort the values in this list of lists. To sort it, we need the integer to be in the first place of the list, so we will swap the numbers."
   ]
  },
  {
   "cell_type": "code",
   "execution_count": 9,
   "metadata": {},
   "outputs": [
    {
     "name": "stdout",
     "output_type": "stream",
     "text": [
      "[[5.58, '09'], [14.74, '13'], [13.44, '10'], [13.23, '14'], [16.8, '16'], [7.99, '23'], [9.41, '12'], [11.46, '17'], [38.59, '15'], [16.01, '21'], [21.52, '20'], [23.81, '02'], [13.2, '18'], [7.8, '03'], [10.09, '05'], [10.8, '19'], [11.38, '01'], [6.75, '22'], [10.25, '08'], [7.17, '04'], [8.13, '00'], [9.02, '06'], [7.85, '07'], [11.05, '11']]\n"
     ]
    }
   ],
   "source": [
    "swap_avg_by_hour = []\n",
    "\n",
    "for rows in avg_by_hour:\n",
    "    swap_avg_by_hour.append([rows[1], rows[0]])\n",
    "\n",
    "print(swap_avg_by_hour)"
   ]
  },
  {
   "cell_type": "code",
   "execution_count": 10,
   "metadata": {},
   "outputs": [
    {
     "name": "stdout",
     "output_type": "stream",
     "text": [
      "[[38.59, '15'], [23.81, '02'], [21.52, '20'], [16.8, '16'], [16.01, '21']]\n"
     ]
    }
   ],
   "source": [
    "sorted_swap = sorted(swap_avg_by_hour, reverse = True)\n",
    "print(sorted_swap[:5])"
   ]
  },
  {
   "cell_type": "markdown",
   "metadata": {},
   "source": [
    "Now we would want to show the time in a more proper way, so we will proceed to reformat it again as we did earlier with the datetime.strptime constructor and strftime method."
   ]
  },
  {
   "cell_type": "code",
   "execution_count": 11,
   "metadata": {},
   "outputs": [
    {
     "name": "stdout",
     "output_type": "stream",
     "text": [
      "15:00: 38.59 average comments per post\n",
      "02:00: 23.81 average comments per post\n",
      "20:00: 21.52 average comments per post\n",
      "16:00: 16.8 average comments per post\n",
      "21:00: 16.01 average comments per post\n",
      "13:00: 14.74 average comments per post\n",
      "10:00: 13.44 average comments per post\n",
      "14:00: 13.23 average comments per post\n",
      "18:00: 13.2 average comments per post\n",
      "17:00: 11.46 average comments per post\n",
      "01:00: 11.38 average comments per post\n",
      "11:00: 11.05 average comments per post\n",
      "19:00: 10.8 average comments per post\n",
      "08:00: 10.25 average comments per post\n",
      "05:00: 10.09 average comments per post\n",
      "12:00: 9.41 average comments per post\n",
      "06:00: 9.02 average comments per post\n",
      "00:00: 8.13 average comments per post\n",
      "23:00: 7.99 average comments per post\n",
      "07:00: 7.85 average comments per post\n",
      "03:00: 7.8 average comments per post\n",
      "04:00: 7.17 average comments per post\n",
      "22:00: 6.75 average comments per post\n",
      "09:00: 5.58 average comments per post\n"
     ]
    }
   ],
   "source": [
    "for values in sorted_swap:\n",
    "    values[1] = dt.datetime.strptime(values[1], \"%H\")\n",
    "    values[1] = values[1].strftime(\"%H:%M\")\n",
    "    print(\"{0}: {1} average comments per post\".format(values[1], values[0]))  \n",
    "    "
   ]
  },
  {
   "cell_type": "markdown",
   "metadata": {},
   "source": [
    "## Conclusions on the correlation between posting time and engagement"
   ]
  },
  {
   "cell_type": "markdown",
   "metadata": {},
   "source": [
    "As we can see, the best hour to post and get comments is 15:00. \n",
    "\n",
    "Looking at the first several rows, we can see that the most engaging times, and therefore the times when moderators are most needed, are the early evening (15:00, 16:00), and night (02:00, 20:00). \n",
    "\n",
    "This makes sense since a lot of the participants might have full time jobs, hence that a lot of these happen either after work or right before finishing."
   ]
  },
  {
   "cell_type": "markdown",
   "metadata": {},
   "source": [
    "## Now, what about the \"Other posts\"?"
   ]
  },
  {
   "cell_type": "markdown",
   "metadata": {},
   "source": [
    "### What kind of posts are these and how much engagement do they bring?"
   ]
  },
  {
   "cell_type": "markdown",
   "metadata": {},
   "source": [
    "We have concluded that for the most standardized kind of posts the best time to get engagement is 15.00, but we had a considerable pool 10 times bigger of \"Other posts\". What are these?\n",
    "\n",
    "To find out, we will analyze how many comments do they have on average, and which posts have the most comments and the most likes. We will print a sample out of these and we will also analyze the comments and likes per hour for these kind of posts."
   ]
  },
  {
   "cell_type": "code",
   "execution_count": 12,
   "metadata": {},
   "outputs": [
    {
     "name": "stdout",
     "output_type": "stream",
     "text": [
      "26.8730371059672\n"
     ]
    }
   ],
   "source": [
    "total_comments_other = 0\n",
    "\n",
    "for rows in other_posts:\n",
    "    comments = int(rows[4])\n",
    "    total_comments_other += comments\n",
    "\n",
    "avg_comments_other = total_comments_other / len(other_posts)\n",
    "\n",
    "print(avg_comments_other)"
   ]
  },
  {
   "cell_type": "markdown",
   "metadata": {},
   "source": [
    "This confirms the suspicion that \"Other posts\" indeed contain an even higher level of activity than the other two categories, and that we are ignoring them inadvertently. \n",
    "\n",
    "In order to have a better picture, we will also compare the number of comments per hour for these kind of posts, and then we will take a sample of the posts with most engagement."
   ]
  },
  {
   "cell_type": "code",
   "execution_count": 13,
   "metadata": {},
   "outputs": [
    {
     "name": "stdout",
     "output_type": "stream",
     "text": [
      "Number of comments per post, per hour:  [['11', 29.59], ['19', 26.7], ['22', 23.27], ['00', 27.08], ['04', 24.13], ['09', 27.59], ['16', 25.39], ['18', 26.92], ['10', 26.61], ['12', 30.35], ['20', 23.14], ['03', 26.83], ['17', 28.0], ['14', 32.33], ['13', 30.9], ['01', 23.07], ['23', 24.62], ['08', 27.03], ['02', 27.79], ['21', 23.61], ['15', 29.52], ['06', 21.36], ['05', 25.18], ['07', 26.81]]\n"
     ]
    }
   ],
   "source": [
    "time_comment_list = []\n",
    "\n",
    "for rows in other_posts:\n",
    "    time_comments_other = [rows[6], int(rows[4])]\n",
    "    time_comment_list.append(time_comments_other)\n",
    "\n",
    "othercounts_hour = {}\n",
    "othercomments_hour = {}\n",
    "\n",
    "for rows in time_comment_list:\n",
    "    hour = rows[0]\n",
    "    hour = dt.datetime.strptime(hour, \"%m/%d/%Y %H:%M\")\n",
    "    hour = hour.strftime(\"%H\")\n",
    "    if hour not in othercounts_hour:\n",
    "        othercounts_hour[hour] = 1\n",
    "        othercomments_hour[hour] = rows[1]\n",
    "    else:\n",
    "        othercounts_hour[hour] += 1\n",
    "        othercomments_hour[hour] += rows[1]\n",
    "\n",
    "#Now we get the average comments per post per hour\n",
    "\n",
    "otheraverage_comments_hour = []\n",
    "\n",
    "for rows in othercounts_hour:\n",
    "    otheraverage_comments_hour.append([rows, round(othercomments_hour[rows]/othercounts_hour[rows],2)])\n",
    "\n",
    "print(\"Number of comments per post, per hour: \", otheraverage_comments_hour)"
   ]
  },
  {
   "cell_type": "markdown",
   "metadata": {},
   "source": [
    "This information tells us that there is much more engagement in the Other Posts category than in the Ask HN posts. We can see as well which hours are the ones with the highest engagement:"
   ]
  },
  {
   "cell_type": "code",
   "execution_count": 18,
   "metadata": {},
   "outputs": [
    {
     "name": "stdout",
     "output_type": "stream",
     "text": [
      "['12', 30.35]\n",
      "['14', 32.33]\n",
      "['13', 30.9]\n"
     ]
    }
   ],
   "source": [
    "for rows in otheraverage_comments_hour:\n",
    "    number = float(rows[1])\n",
    "    if number > 30:\n",
    "        print(rows)"
   ]
  },
  {
   "cell_type": "markdown",
   "metadata": {},
   "source": [
    "We see that there are 3 hours that have more than 30 comments per hour. Now, let's take a sample of posts to see what are we dealing with. We will find out which comments have the most posts and then print their titles: "
   ]
  },
  {
   "cell_type": "code",
   "execution_count": 28,
   "metadata": {},
   "outputs": [
    {
     "name": "stdout",
     "output_type": "stream",
     "text": [
      "1733.0\n",
      " \n",
      "[1733.0, 809.0, 781.0, 760.0, 705.0, 677.0, 644.0, 624.0, 599.0, 569.0, 552.0, 552.0, 547.0, 521.0, 519.0, 516.0, 515.0, 514.0, 513.0, 503.0]\n",
      " \n",
      "['Master Plan, Part Deux', 677]\n",
      "['I switched to Android after 7 years of iOS', 502]\n",
      "['Soaring Student Debt Prompts Calls for Relief', 516]\n",
      "['July was the hottest month ever recorded, according to Nasa', 502]\n",
      "['Tech workers are increasingly looking to leave Silicon Valley', 569]\n",
      "['Massachusetts Bans Employers from Asking Applicants About Previous Pay', 760]\n",
      "[\"It's The Future\", 521]\n",
      "['A letter to our daughter', 519]\n",
      "['New Windows 10 Devices From Microsoft', 644]\n",
      "['Elon Musk on How to Build the Future', 513]\n",
      "[\"Instagram's Million Dollar Bug\", 514]\n",
      "['iPhone 7', 1733]\n",
      "['Pardon Snowden', 781]\n",
      "['Paris Shootings and Explosions Kill Over 100, Police Say', 624]\n",
      "['How the Sugar Industry Shifted Blame to Fat', 599]\n",
      "['Economic Inequality', 547]\n",
      "['VLC contributor living in Aleppo writing about the Paris attacks', 705]\n",
      "['Apple introduces the iPhone SE', 515]\n",
      "['How to Pass a Programming Interview', 552]\n",
      "['Node.js is one of the worst things to happen to the software industry (2012)', 552]\n",
      "['How Can We Achieve Age Diversity in Silicon Valley?', 503]\n",
      "['A Basic Income Should Be the Next Big Thing', 809]\n"
     ]
    }
   ],
   "source": [
    "comments_other = []\n",
    "\n",
    "for rows in other_posts:\n",
    "    comments_other.append(float(rows[4]))\n",
    "\n",
    "print(max(comments_other))\n",
    "print(\" \")\n",
    "\n",
    "#We sort the list to find out the top range\n",
    "\n",
    "comments_sorted = sorted(comments_other, reverse = True)\n",
    "print(comments_sorted[0:20])\n",
    "print(\" \")\n",
    "\n",
    "#Now we create a list with names and number of comments\n",
    "\n",
    "final_sample_otherposts = []\n",
    "for rows in other_posts:\n",
    "    comment_and_title = [rows[1], int(rows[4])]\n",
    "    if int(rows[4]) > 500:\n",
    "        print(comment_and_title)\n",
    "       \n",
    "\n",
    "        \n",
    "    \n",
    "    "
   ]
  },
  {
   "cell_type": "markdown",
   "metadata": {},
   "source": [
    "## Conclusion - Other posts that gain significant engagement in HN\n",
    "\n",
    "As we can see, a lot of these posts with very high activity are news articles (we do not know if it is a copy-paste or an opinion article), all of them about technology. Ask HN might want to set up a category for news articles in their post creation interface to properly track these and assign more moderation resources to them. \n",
    "\n",
    "If these are indeed opinion articles, then commenting on technology news might be a very good path for HN \"Influencers\" to explore! "
   ]
  }
 ],
 "metadata": {
  "kernelspec": {
   "display_name": "Python 3",
   "language": "python",
   "name": "python3"
  },
  "language_info": {
   "codemirror_mode": {
    "name": "ipython",
    "version": 3
   },
   "file_extension": ".py",
   "mimetype": "text/x-python",
   "name": "python",
   "nbconvert_exporter": "python",
   "pygments_lexer": "ipython3",
   "version": "3.8.2"
  }
 },
 "nbformat": 4,
 "nbformat_minor": 2
}
